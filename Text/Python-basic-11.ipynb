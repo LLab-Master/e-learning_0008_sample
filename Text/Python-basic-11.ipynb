{
 "cells": [
  {
   "cell_type": "markdown",
   "id": "overhead-arrangement",
   "metadata": {},
   "source": [
    "# 正規表現\n",
    "\n",
    "## 正規表現とは\n",
    "\n",
    " 文字列を検索、置換する時によく使われる、文字列をパターン化する方法。\n",
    " \n",
    " ファイル名の指定などで出てくるワイルドカード(*, ?)をより一般的に拡張したもの。\n",
    "\n",
    "### 正規表現で使われるパターン(抜粋)\n",
    "\n",
    "|パターン|意味|\n",
    "|------|----|\n",
    "|.|任意の1文字|\n",
    "|\\\\d|数字|\n",
    "|\\\\D|非数字|\n",
    "|\\\\w|英数字および下線( _ )|\n",
    "|\\\\W|非英数字|\n",
    "|\\\\s|空白文字(スペース、改行、タブ)|\n",
    "|\\\\S|非空白文字|\n",
    "|\\\\\\\\|\\\\自身|\n",
    "|[...]|[ ]内の任意の文字。-を使って範囲指定も可([a-z]はアルファベット小文字全部)|\n",
    "|[^...]|[^ ]内に含まれない文字|\n",
    "|(abc\\|def)|'abc' か 'def'|\n",
    "|^ | 文字列の先頭|\n",
    "|$ | 文字列の終端|\n",
    "|*|直前の文字パターンの0回以上の繰り返し|\n",
    "|+|直前の文字パターンの1回以上の繰り返し|\n",
    "|{n}|直前の文字パターンのn回の繰り返し|\n",
    "|{n,m}|直前の文字パターンのn回からm回までの繰り返し|\n",
    "|(...)|後で使えるよう記憶しておく。置換文字列の\\1,\\2,\\3などで使える|\n",
    "\n",
    "### 例\n",
    "\n",
    " .* ⇒ 任意の文字の0回以上の繰り返し\n",
    "\n",
    " \\d{3}-\\d{3}-\\d{4} ⇒ 080-123-2534 のような文字列\n",
    "\n",
    " ^abc$ ⇒     abc だけの文字列(abcdefなどはマッチしない)\n",
    " \n",
    " abc\\s+def ⇒   abc def のように間に空白文字いくつかを含むもの"
   ]
  },
  {
   "cell_type": "markdown",
   "id": "swiss-longer",
   "metadata": {},
   "source": [
    "## re モジュール\n",
    "\n",
    " Python で正規表現を扱うには、re モジュールを使う。\n",
    " \n",
    " re モジュールは2つの使い方がある。\n",
    " \n",
    " - re クラスのインスタンスを作成して、メソッドから使う\n",
    " - re のスタティックメソッドを使う(関数的に使う)\n",
    " \n",
    "以下では、スタティックメソッドとしての使い方を紹介する。"
   ]
  },
  {
   "cell_type": "markdown",
   "id": "institutional-degree",
   "metadata": {},
   "source": [
    "## re.search()\n",
    "\n",
    " re.search(検索したい正規表現, 検索対象文字列) の形で使う。\n",
    " \n",
    " 戻り値は match オブジェクト。match オブジェクトは以下のメソッドを持つ。\n",
    " \n",
    "- .group() マッチした文字列\n",
    "- .start() マッチした開始位置\n",
    "- .end() マッチした終了位置\n",
    "- .span() マッチした開始位置と終了位置のタプル"
   ]
  },
  {
   "cell_type": "code",
   "execution_count": 1,
   "id": "realistic-carol",
   "metadata": {},
   "outputs": [
    {
     "name": "stdout",
     "output_type": "stream",
     "text": [
      "ha\n",
      "2\n",
      "4\n",
      "(2, 4)\n"
     ]
    }
   ],
   "source": [
    "import re\n",
    "\n",
    "str1 = 'I have a pen'\n",
    "\n",
    "match = re.search('ha', str1)\n",
    "\n",
    "print(match.group())\n",
    "print(match.start())\n",
    "print(match.end())\n",
    "print(match.span())\n"
   ]
  },
  {
   "cell_type": "code",
   "execution_count": 2,
   "id": "operational-culture",
   "metadata": {},
   "outputs": [
    {
     "name": "stdout",
     "output_type": "stream",
     "text": [
      " \n",
      "1\n",
      "2\n",
      "(1, 2)\n"
     ]
    }
   ],
   "source": [
    "# 正規表現を指定するには、raw 文字列を使うのがよい。\n",
    "match = re.search(r'\\s', str1)\n",
    "\n",
    "print(match.group())\n",
    "print(match.start())\n",
    "print(match.end())\n",
    "print(match.span())\n"
   ]
  },
  {
   "cell_type": "markdown",
   "id": "spare-serum",
   "metadata": {},
   "source": [
    "## re.findall()\n",
    "\n",
    "re.findall(検索したい正規表現, 検索対象文字列)の形で使う。search と違って見つかった文字列をすべてリストで返す。\n",
    "\n",
    "ほぼ同じ機能で、リストではなく、イテレータ(range と同様)を返す re.finditer() もある。\n",
    "\n"
   ]
  },
  {
   "cell_type": "code",
   "execution_count": 3,
   "id": "classical-contributor",
   "metadata": {},
   "outputs": [
    {
     "name": "stdout",
     "output_type": "stream",
     "text": [
      "['ave', 'en']\n"
     ]
    }
   ],
   "source": [
    "str1 = 'I Have A Pen'\n",
    "match = re.findall(r'[a-z]+', str1)\n",
    "\n",
    "print(match)"
   ]
  },
  {
   "cell_type": "markdown",
   "id": "incorrect-boating",
   "metadata": {},
   "source": [
    "## re.sub()\n",
    "\n",
    "re.sub(検索したい正規表現, 置換結果の正規表現, 検索対象文字列) の形で、文字列の置換を行う。\n",
    "\n",
    "置換後の文字列を返す。元の文字列自体は変化しない。"
   ]
  },
  {
   "cell_type": "code",
   "execution_count": 4,
   "id": "proprietary-storm",
   "metadata": {},
   "outputs": [
    {
     "name": "stdout",
     "output_type": "stream",
     "text": [
      "She has a pen\n"
     ]
    }
   ],
   "source": [
    "str1 = 'I have a pen'\n",
    "\n",
    "new_str = re.sub('I have', 'She has', str1)\n",
    "\n",
    "print(new_str)"
   ]
  },
  {
   "cell_type": "code",
   "execution_count": 5,
   "id": "unlike-wallpaper",
   "metadata": {},
   "outputs": [
    {
     "name": "stdout",
     "output_type": "stream",
     "text": [
      "X Xave X Xen\n"
     ]
    }
   ],
   "source": [
    "str1 = 'I Have A Pen'\n",
    "\n",
    "new_str = re.sub(r'[A-Z]', 'X', str1)\n",
    "print(new_str)"
   ]
  },
  {
   "cell_type": "code",
   "execution_count": 6,
   "id": "separated-thong",
   "metadata": {},
   "outputs": [
    {
     "name": "stdout",
     "output_type": "stream",
     "text": [
      "IX HXave AX PXen\n"
     ]
    }
   ],
   "source": [
    "new_str = re.sub(r'([A-Z])', r'\\1X', str1)  # \\1 が()内の文字列に動的に置き換わる\n",
    "print(new_str)"
   ]
  }
 ],
 "metadata": {
  "kernelspec": {
   "display_name": "Python 3 (ipykernel)",
   "language": "python",
   "name": "python3"
  },
  "language_info": {
   "codemirror_mode": {
    "name": "ipython",
    "version": 3
   },
   "file_extension": ".py",
   "mimetype": "text/x-python",
   "name": "python",
   "nbconvert_exporter": "python",
   "pygments_lexer": "ipython3",
   "version": "3.10.0"
  }
 },
 "nbformat": 4,
 "nbformat_minor": 5
}

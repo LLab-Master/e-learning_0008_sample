{
 "cells": [
  {
   "cell_type": "markdown",
   "metadata": {},
   "source": [
    "# 制御文"
   ]
  },
  {
   "cell_type": "markdown",
   "metadata": {},
   "source": [
    "## 比較演算子、論理演算子"
   ]
  },
  {
   "cell_type": "markdown",
   "metadata": {
    "jp-MarkdownHeadingCollapsed": true,
    "slideshow": {
     "slide_type": "slide"
    },
    "tags": []
   },
   "source": [
    "### 比較演算子  \n",
    "\n",
    "条件式などで、値を比較するために使用する記号のことを「比較演算子」といいます。\n",
    "\n",
    "\n",
    "|演算子|記述例|意味|\n",
    "|---|---|---|\n",
    "|==|a==b|aとbは等しい|\n",
    "|!=|a!=b|aとbは等しくない|\n",
    "|>|a>b|aはbより大きい|\n",
    "|<|a<b|aはbより小さい|\n",
    "|>=|a>=b|aはb以上|\n",
    "|<=|a<=b|aはb以下|\n"
   ]
  },
  {
   "cell_type": "markdown",
   "metadata": {
    "slideshow": {
     "slide_type": "slide"
    }
   },
   "source": [
    "### 論理演算子  \n",
    "\n",
    "複数の条件に当てはまるような条件式を記述したい場合は、「論理演算子」を使用します。\n",
    "\n",
    "|演算子|記述例|意味|\n",
    "|---|---|---|\n",
    "|and|条件1 and 条件2|条件1と条件2の両方に当てはまる|\n",
    "|or|条件1 or 条件2|条件1か条件2のどちらかに当てはまる|\n",
    "|not|not 条件1|条件1が当てはまらない時に処理を実行|\n",
    "\n",
    "~~~\n",
    "if [条件1] and [条件2]:\n",
    "    [条件1と条件2の両方の条件を満たす時に実行する処理\n",
    "\n",
    "if [条件1] or [条件2]:\n",
    "    #条件1と条件2のどちらかの条件を満たす時に実行する処理\n",
    "    \n",
    "if not [条件1]\n",
    "    #条件1が当てはまらない時に実行する処理\n",
    "~~~\n"
   ]
  },
  {
   "cell_type": "markdown",
   "metadata": {
    "slideshow": {
     "slide_type": "slide"
    }
   },
   "source": [
    "## if文"
   ]
  },
  {
   "cell_type": "markdown",
   "metadata": {
    "slideshow": {
     "slide_type": "slide"
    }
   },
   "source": [
    "if文は、ある条件で処理を分岐させたい場合に使用します。  \n",
    "if分の構文は以下の通りです。\n",
    "\n",
    "~~~\n",
    "\n",
    "if [条件式]:\n",
    "    [実行する処理1]\n",
    "elif [条件式]:\n",
    "    [実行する処理2]\n",
    "else:\n",
    "    [全ての条件に当てはまらない処理]\n",
    "~~~\n",
    "\n",
    "<span style=\"color:red\">ポイント</span> \n",
    "\n",
    "- ifと条件式の間には半角スペースが必要です。\n",
    "- 条件式の後にはコロンが必要です。\n",
    "- 実行する処理を記述する行は、必ずインデントします。"
   ]
  },
  {
   "cell_type": "code",
   "execution_count": 4,
   "metadata": {
    "tags": []
   },
   "outputs": [
    {
     "name": "stdout",
     "output_type": "stream",
     "text": [
      "num1は10より大きい数字です\n",
      "ifブロック\n"
     ]
    }
   ],
   "source": [
    "num1 = 20\n",
    "if num1 > 10:\n",
    "    print('num1は10より大きい数字です')\n",
    "    print('ifブロック')\n",
    "else:\n",
    "    print('次のブロック')"
   ]
  },
  {
   "cell_type": "markdown",
   "metadata": {},
   "source": [
    "- 複数の条件で分岐させたい場合\n",
    "\n",
    "複数の条件で分岐をさせたい場合は、elifやelseを使用します。  \n",
    "elifは別の条件の処理を定義したい場合に使用し、elseは全ての条件に当てはまらない場合の処理を定義したい場合に使用します。\n",
    "~~~\n",
    "if [条件式]:\n",
    "    [実行する処理1]\n",
    "elif [条件式]:\n",
    "    [実行する処理2]\n",
    "else:\n",
    "    [全ての条件に当てはまらない処理]\n",
    "~~~"
   ]
  },
  {
   "cell_type": "code",
   "execution_count": 4,
   "metadata": {},
   "outputs": [
    {
     "name": "stdout",
     "output_type": "stream",
     "text": [
      "num1は1です\n"
     ]
    }
   ],
   "source": [
    "num1 = 1\n",
    "if num1 == 0:\n",
    "    print('num1は0です')\n",
    "elif num1 == 1:\n",
    "    print('num1は1です')\n",
    "elif num2 == 2:\n",
    "    print('numは2です')\n",
    "else:\n",
    "    print('num1は０でも１でも２でもありません。')"
   ]
  },
  {
   "cell_type": "code",
   "execution_count": 6,
   "metadata": {},
   "outputs": [
    {
     "name": "stdout",
     "output_type": "stream",
     "text": [
      "num1は０でも１でも２でもありません。\n"
     ]
    }
   ],
   "source": [
    "num1 = 3\n",
    "if num1 == 0:\n",
    "    print('num1は0です')\n",
    "elif num1 == 1:\n",
    "    print('num1は1です')\n",
    "elif num1 == 2:\n",
    "    print('numは2です')\n",
    "else:\n",
    "    print('num1は０でも１でも２でもありません。')"
   ]
  },
  {
   "cell_type": "code",
   "execution_count": 15,
   "metadata": {},
   "outputs": [],
   "source": [
    "num = 10\n",
    "if num > 10:\n",
    "    #コメント\n",
    "    print('A')\n",
    "    pass #何もしない。インデント調整用\n",
    "else:\n",
    "    '''\n",
    "    コメント\n",
    "    '''"
   ]
  },
  {
   "cell_type": "code",
   "execution_count": 16,
   "metadata": {},
   "outputs": [
    {
     "name": "stdout",
     "output_type": "stream",
     "text": [
      "city1の値は横浜です。\n",
      "city2の値は鎌倉ではありません。\n",
      "num1はnum2より大きい値です。\n",
      "num3はnum4より小さい値です。\n",
      "num5はnum6以上の値です。\n",
      "num7はnum8以下の値です。\n"
     ]
    }
   ],
   "source": [
    "#論理演算子のサンプル\n",
    "city1 = '横浜'\n",
    "if city1 == '川崎':\n",
    "    print('city1の値は川崎です。') # city1の値は横浜なので、この処理は実行されません。\n",
    "else:\n",
    "    print('city1の値は横浜です。')\n",
    "\n",
    "city2 = '藤沢'\n",
    "if city2 != '鎌倉':\n",
    "    print('city2の値は鎌倉ではありません。')\n",
    "\n",
    "num1 = 20\n",
    "num2 = 10\n",
    "if num1 > num2:\n",
    "    print('num1はnum2より大きい値です。')\n",
    "\n",
    "num3 = 4\n",
    "num4 = 5\n",
    "if num3 < num4:\n",
    "    print('num3はnum4より小さい値です。')\n",
    "\n",
    "num5 = 101\n",
    "num6 = 100\n",
    "if num5 >= num6:\n",
    "    print('num5はnum6以上の値です。')\n",
    "\n",
    "num7 = 199\n",
    "num8 = 200\n",
    "if num7 <= num8:\n",
    "    print('num7はnum8以下の値です。')"
   ]
  },
  {
   "cell_type": "code",
   "execution_count": 17,
   "metadata": {},
   "outputs": [
    {
     "name": "stdout",
     "output_type": "stream",
     "text": [
      "1番目の条件式に一致しました。\n"
     ]
    }
   ],
   "source": [
    "# 論理演算子のサンプル1(and)\n",
    "value1 = 'Python'\n",
    "value2 = '入門'\n",
    "if value1 == 'Python' and value2 == '入門':\n",
    "    print('1番目の条件式に一致しました。')\n",
    "elif value1 == 'PYTHON' or value2 == '入門':\n",
    "    print('2番目の条件式に一致しました。')"
   ]
  },
  {
   "cell_type": "code",
   "execution_count": 18,
   "metadata": {},
   "outputs": [
    {
     "name": "stdout",
     "output_type": "stream",
     "text": [
      "2番目の条件式に一致しました。\n"
     ]
    }
   ],
   "source": [
    "# 論理演算子のサンプル2(or)\n",
    "value3 = 'Python'\n",
    "value4 = '入門'\n",
    "if value3 == 'Python' and value4 == '講座':\n",
    "    print('1番目の条件式に一致しました。')\n",
    "elif value3 == 'PYTHON' or value4 == '入門':\n",
    "    print('2番目の条件式に一致しました。')"
   ]
  },
  {
   "cell_type": "code",
   "execution_count": 19,
   "metadata": {},
   "outputs": [
    {
     "name": "stdout",
     "output_type": "stream",
     "text": [
      "条件式に一致しました。\n"
     ]
    }
   ],
   "source": [
    "# 論理演算子のサンプル3(not)\n",
    "value5 = 'Python'\n",
    "value6 = '入門'\n",
    "if not value5 == 'PYTHON':\n",
    "    print('条件式に一致しました。')\n",
    "else:\n",
    "    print('条件に一致しませんでした。')"
   ]
  },
  {
   "cell_type": "code",
   "execution_count": 20,
   "metadata": {},
   "outputs": [
    {
     "name": "stdout",
     "output_type": "stream",
     "text": [
      "OK\n"
     ]
    }
   ],
   "source": [
    "#論理演算子のサンプル4\n",
    "num = 10\n",
    "if 0 <= num and num <= 100:\n",
    "  print('OK')\n",
    "else:\n",
    "  print('NG')"
   ]
  },
  {
   "cell_type": "markdown",
   "metadata": {},
   "source": [
    "上記のif文は、下記のようにandを省略して、数式のように記載することも可能です。  \n",
    "他の言語にはあまり見られない特徴です。\n",
    "\n",
    "~~~python\n",
    "if 0 <= num <= 100 :\n",
    "~~~"
   ]
  },
  {
   "cell_type": "code",
   "execution_count": 21,
   "metadata": {},
   "outputs": [
    {
     "name": "stdout",
     "output_type": "stream",
     "text": [
      "OK\n"
     ]
    }
   ],
   "source": [
    "num = 10\n",
    "if 0 <= num <= 100:\n",
    "  print('OK')\n",
    "else:\n",
    "  print('NG')"
   ]
  },
  {
   "cell_type": "code",
   "execution_count": 22,
   "metadata": {},
   "outputs": [
    {
     "name": "stdout",
     "output_type": "stream",
     "text": [
      "空\n",
      "空\n"
     ]
    }
   ],
   "source": [
    "s = ''\n",
    "#1文字列が空？\n",
    "if s == '':\n",
    "    print('空')\n",
    "    \n",
    "if not s:\n",
    "    print('空')"
   ]
  },
  {
   "cell_type": "code",
   "execution_count": 23,
   "metadata": {},
   "outputs": [
    {
     "name": "stdout",
     "output_type": "stream",
     "text": [
      "NG\n"
     ]
    }
   ],
   "source": [
    "x = 0\n",
    "if x :\n",
    "    print('OK')\n",
    "else:\n",
    "    print('NG')"
   ]
  },
  {
   "cell_type": "markdown",
   "metadata": {},
   "source": [
    "## pass文"
   ]
  },
  {
   "cell_type": "markdown",
   "metadata": {},
   "source": [
    "Pythonには、「何もしない」ということを表す「pass」文というものがあります。  \n",
    "例えば、条件分岐の際のelse節などで使用します。"
   ]
  },
  {
   "cell_type": "code",
   "execution_count": 24,
   "metadata": {},
   "outputs": [],
   "source": [
    "num1 = 1\n",
    "if num1 == 0:\n",
    "    print('num1は0です')\n",
    "else:\n",
    "    pass # num1は0ではないので、この行の処理が実行されますが、pass文が記述されているため、実行しても何も表示されません。"
   ]
  },
  {
   "cell_type": "markdown",
   "metadata": {},
   "source": [
    "- <span style=\"color:red\">ポイント</span> \n",
    "なぜpass文が必要？\n",
    "\n",
    "Pythonは、インデントのブロック構造のため、文法上、インデントの後に何も処理が記述されていないとエラーになってしまいます。  \n",
    "そのため、何も処理をしない場合は、「何もしない」という処理を示すpass文を記述する必要があります。"
   ]
  },
  {
   "cell_type": "markdown",
   "metadata": {
    "tags": []
   },
   "source": [
    "## match/case文\n",
    "python3.10 以降では、複数条件での分岐に対し、if文以外に、match/case文が使えます。\n",
    "~~~\n",
    "match 式:\n",
    "    case 値1:\n",
    "        [式==値1の時、実行する処理]\n",
    "    case 値2:\n",
    "        [式==値2の時、実行する処理2]\n",
    "    ...\n",
    "    case _:\n",
    "        [上記どの値にもマッチしなかった時の処理]\n",
    "~~~\n",
    "\n",
    "match 部分には変数や値を返す式を書きます。\n",
    "\n",
    "「case _:」以降は省略可です。"
   ]
  },
  {
   "cell_type": "code",
   "execution_count": 58,
   "metadata": {},
   "outputs": [
    {
     "name": "stdout",
     "output_type": "stream",
     "text": [
      "0でも1でも2でもありません。\n"
     ]
    }
   ],
   "source": [
    "num1 = 3\n",
    "\n",
    "match num1:\n",
    "    case 0:\n",
    "        print('0です')\n",
    "    case 1:\n",
    "        print('1です')\n",
    "    case 2:\n",
    "        print('2です')\n",
    "    case _:\n",
    "        print('0でも1でも2でもありません。')"
   ]
  },
  {
   "cell_type": "markdown",
   "metadata": {},
   "source": [
    "case 部分は '|' 記号で、値を並べることができます。並んだ値のどれかに一致すればよいことを示します。"
   ]
  },
  {
   "cell_type": "code",
   "execution_count": 64,
   "metadata": {},
   "outputs": [
    {
     "name": "stdout",
     "output_type": "stream",
     "text": [
      "0か1か2です\n"
     ]
    }
   ],
   "source": [
    "num1 = 2\n",
    "\n",
    "match num1:\n",
    "    case 0 | 1 | 2:\n",
    "        print('0か1か2です')\n",
    "    case 3:\n",
    "        print('3です')\n",
    "    case _:\n",
    "        print('0でも1でも2でもありません。')"
   ]
  },
  {
   "cell_type": "markdown",
   "metadata": {},
   "source": [
    "またcase 部分には if 文で条件式を書くことができます(「ガード」と言います）。\n",
    "ガードを使う際には、match の式の値をいったん別の変数で受け取ります。"
   ]
  },
  {
   "cell_type": "code",
   "execution_count": 61,
   "metadata": {},
   "outputs": [
    {
     "name": "stdout",
     "output_type": "stream",
     "text": [
      "0以上2以下です\n"
     ]
    }
   ],
   "source": [
    "num1 = 1\n",
    "\n",
    "match num1 :\n",
    "    case n if 0 <= n <= 2:        # num1の値が n に入る\n",
    "        print('0以上2以下です')\n",
    "    case 3:\n",
    "        print('3です')\n",
    "    case _:\n",
    "        print('それ以外')"
   ]
  },
  {
   "cell_type": "markdown",
   "metadata": {},
   "source": [
    "(注意) case の後に変数を書くと、「パターンマッチ」という別の機能となります。単純な分岐処理として match/case を使う場合は、case の後は定数、文字列など値の決まったものを置いてください。"
   ]
  },
  {
   "cell_type": "code",
   "execution_count": 68,
   "metadata": {},
   "outputs": [
    {
     "name": "stdout",
     "output_type": "stream",
     "text": [
      "要素3個( 1 2 3 )のリストです\n"
     ]
    }
   ],
   "source": [
    "# (参考)パターンマッチの例\n",
    "## case の後が match の後の変数 a と\"同じ形\"の場合に、\n",
    "## a の値が case 部分の変数にキャプチャされます。\n",
    "\n",
    "a = [1, 2, 3]\n",
    "\n",
    "match a:\n",
    "    case [x]:\n",
    "        print(\"要素1個(\", x, \")のリストです\")\n",
    "    case [x, y]:\n",
    "        print(\"要素2個(\", x, y, \")のリストです\")\n",
    "    case [x, y, z]:\n",
    "        print(\"要素3個(\", x, y, z, \")のリストです\")\n",
    "    case _:\n",
    "        print(\"要素4個以上のリスト、またはリスト以外です\")\n"
   ]
  },
  {
   "cell_type": "code",
   "execution_count": 69,
   "metadata": {},
   "outputs": [
    {
     "name": "stdout",
     "output_type": "stream",
     "text": [
      "aの値は 2 、bの値は 2\n"
     ]
    }
   ],
   "source": [
    "# (参考)意図せずパターンマッチになる例\n",
    "\n",
    "## a と b の比較だけをするつもりで下のようなコードを書くと、a の値が変わってしまいます。\n",
    "\n",
    "a = 1\n",
    "b = 2\n",
    "\n",
    "match b:\n",
    "    case a:\n",
    "        print(\"aの値は\", a, \"、bの値は\", b)\n"
   ]
  },
  {
   "cell_type": "markdown",
   "metadata": {},
   "source": [
    "## while文"
   ]
  },
  {
   "cell_type": "markdown",
   "metadata": {},
   "source": [
    "ある条件を満たしている間、繰り返し処理を実行したい場合は「while」文を使用します。  \n",
    "式の書き方はif文と変わりません。\n",
    "~~~\n",
    "while [条件式]:\n",
    "    [条件式を満たす場合に実行する処理]\n",
    "~~~\n",
    "\n",
    "- <span style=\"color:red\">ポイント</span> \n",
    "  - whileと条件式の間には半角スペースが必要です。\n",
    "  - 条件式の後にはコロンが必要です。\n",
    "  - 条件式を満たす場合に実行する処理を記述する行は、必ずインデントします。"
   ]
  },
  {
   "cell_type": "code",
   "execution_count": 25,
   "metadata": {},
   "outputs": [
    {
     "name": "stdout",
     "output_type": "stream",
     "text": [
      "0 回目の処理です。\n",
      "Hello Python!\n",
      "1 回目の処理です。\n",
      "Hello Python!\n",
      "2 回目の処理です。\n",
      "Hello Python!\n",
      "3 回目の処理です。\n",
      "Hello Python!\n",
      "4 回目の処理です。\n",
      "Hello Python!\n",
      "while文の終了\n"
     ]
    }
   ],
   "source": [
    "num1 = 0\n",
    "while num1<5:\n",
    "    print(num1,'回目の処理です。')\n",
    "    print(\"Hello Python!\")\n",
    "    num1 = num1 +1\n",
    "print('while文の終了')"
   ]
  },
  {
   "cell_type": "markdown",
   "metadata": {},
   "source": [
    "- <span style=\"color:red\">無限ループに注意しましょう！</span> \n",
    "\n",
    "while文は条件を満たしている場合、処理が繰り返されます。  \n",
    "つまり、<u>**条件が変化しない限り無限に処理が繰り返されることになります。** </u>  \n",
    "このような処理を「<u>**無限ループ**</u>」といいます。  \n",
    "無限ループは処理が終了しないため、強制的に処理を中断しなければなりません。  \n",
    "このような事態を避けるためには、条件式を変化させる処理をブロック内に記述する必要があります。  \n",
    "先ほどの例ではnum1の値に1を加算させる処理を条件を変化させる処理として記述しています。\n",
    "\n",
    "~~~python\n",
    "num1 = 0\n",
    "while num1<5:\n",
    "    print(num1,'回目の処理です。')\n",
    "    print(\"Hello Python!\")\n",
    "    num1 = num1 +1 #条件を変化させる処理\n",
    "print('while文の終了')\n",
    "~~~\n",
    "\n",
    "条件を変化させる処理を記述することで、5回目の処理の際にはwhile文の条件を満たさなくなるため、while文の処理は実行されなくなります。"
   ]
  },
  {
   "cell_type": "markdown",
   "metadata": {},
   "source": [
    "## for文"
   ]
  },
  {
   "cell_type": "markdown",
   "metadata": {},
   "source": [
    "繰り返し処理を実行したい場合は、「for」文を使用します。\n",
    "\n",
    "~~~\n",
    "for [変数] in [繰り返すデータ]:\n",
    "    [実行する処理]\n",
    "~~~\n",
    "\n",
    "for文は、「繰り返すデータ」からデータを1つずつ取り出し、取り出したデータは「変数」に格納され、「繰り返すデータ」の数だけ処理を行います。  \n",
    "\n",
    "- <span style=\"color:red\">ポイント</span> \n",
    "  - forと変数の間には半角スペースが必要です。\n",
    "  - 変数の後にはinが必要です。\n",
    "  - 繰り返すデータの後にはコロンが必要です。\n",
    "  - 実行する処理を記述する行は、必ずインデントします。"
   ]
  },
  {
   "cell_type": "code",
   "execution_count": 26,
   "metadata": {},
   "outputs": [
    {
     "name": "stdout",
     "output_type": "stream",
     "text": [
      "P\n",
      "y\n",
      "t\n",
      "h\n",
      "o\n",
      "n\n",
      "for文の終了\n"
     ]
    }
   ],
   "source": [
    "# 'Python'という文字列から1文字ずつ取り出して変数「str1」に格納して表示する。\n",
    "for str1 in 'Python':\n",
    "  print(str1)\n",
    "print('for文の終了')"
   ]
  },
  {
   "cell_type": "markdown",
   "metadata": {},
   "source": [
    "#### range関数の使用  \n",
    "for文で一定の回数の繰り返し処理を記述したい場合は、range関数を使用すると簡潔に記述することができます。  \n",
    "\n",
    "~~~\n",
    "for 変数名 in range(開始の数値,終了の数値,増加させる数値):\n",
    "    #処理\n",
    "~~~\n",
    "\n",
    "<u>**開始の数値と、増加させる数値は省略可能です。**</u>  \n",
    "引数を一つだけ指定した場合は、終了の数値が指定されたことになり、0から終了の数値-1まで繰り返し処理が実行されます。"
   ]
  },
  {
   "cell_type": "code",
   "execution_count": 27,
   "metadata": {},
   "outputs": [
    {
     "name": "stdout",
     "output_type": "stream",
     "text": [
      "0\n",
      "1\n",
      "2\n",
      "3\n",
      "4\n",
      "5\n",
      "6\n",
      "7\n",
      "8\n",
      "9\n"
     ]
    }
   ],
   "source": [
    "for i in range(0,10,1):\n",
    "  print(i)"
   ]
  },
  {
   "cell_type": "markdown",
   "metadata": {},
   "source": [
    "## breakとcontinue"
   ]
  },
  {
   "cell_type": "markdown",
   "metadata": {},
   "source": [
    "### break\n",
    "breakを使用すると、以降の処理を行わず、for文やwhile文の処理を終了させます。"
   ]
  },
  {
   "cell_type": "code",
   "execution_count": 28,
   "metadata": {},
   "outputs": [
    {
     "name": "stdout",
     "output_type": "stream",
     "text": [
      "for文の開始\n",
      "P\n",
      "y\n",
      "for文の終了\n",
      "\n",
      "\n",
      "while文の開始\n",
      "0 回目の処理です。\n",
      "Hello Python!\n",
      "1 回目の処理です。\n",
      "Hello Python!\n",
      "while文の終了\n"
     ]
    }
   ],
   "source": [
    "print('for文の開始')\n",
    "for str1 in 'Python':\n",
    "    if str1 == 't': # str1の値が「t」の場合、以降の処理は行わず、for文の処理を終了します。\n",
    "        break\n",
    "    print(str1)\n",
    "print('for文の終了')\n",
    "print('\\n')\n",
    "num1 = 0\n",
    "print('while文の開始')\n",
    "while num1<5:\n",
    "    if num1 == 2: # num1の値が2の場合、以降の処理は行わず、while文の処理を終了します。\n",
    "        num1 = num1 +1\n",
    "        break\n",
    "    print(num1,'回目の処理です。')\n",
    "    print(\"Hello Python!\")\n",
    "    num1 = num1 +1\n",
    "print('while文の終了')"
   ]
  },
  {
   "cell_type": "code",
   "execution_count": 29,
   "metadata": {},
   "outputs": [
    {
     "name": "stdout",
     "output_type": "stream",
     "text": [
      "for文の開始\n",
      "P\n",
      "y\n",
      "t\n",
      "h\n",
      "o\n",
      "n\n",
      "AAAAA\n",
      "for文の終了\n"
     ]
    }
   ],
   "source": [
    "print('for文の開始')\n",
    "for str1 in 'Python':\n",
    "  if str1 == 'a': # str1の値が「t」の場合、以降の処理は行わず、for文の処理を終了します。\n",
    "    break\n",
    "  print(str1)\n",
    "else:\n",
    "    #ループ正常終了後の処理\n",
    "    print('AAAAA')\n",
    "print('for文の終了')"
   ]
  },
  {
   "cell_type": "markdown",
   "metadata": {},
   "source": [
    "### continue  \n",
    "continueを使用すると、以降の処理をスキップし、for文やwhile文の先頭に処理を戻します。"
   ]
  },
  {
   "cell_type": "code",
   "execution_count": 30,
   "metadata": {
    "scrolled": true
   },
   "outputs": [
    {
     "name": "stdout",
     "output_type": "stream",
     "text": [
      "for文の開始\n",
      "P\n",
      "y\n",
      "h\n",
      "o\n",
      "n\n",
      "for文の終了\n",
      "\n",
      "\n",
      "while文の開始\n",
      "0 回目の処理です。\n",
      "Hello Python!\n",
      "1 回目の処理です。\n",
      "Hello Python!\n",
      "3 回目の処理です。\n",
      "Hello Python!\n",
      "4 回目の処理です。\n",
      "Hello Python!\n",
      "while文の終了\n"
     ]
    }
   ],
   "source": [
    "print('for文の開始')\n",
    "for str1 in 'Python':\n",
    "    if str1 == 't': # str1の値が「t」の場合、以降の処理をスキップするため、「t」は出力されません。\n",
    "        continue\n",
    "    print(str1)\n",
    "print('for文の終了')\n",
    "print('\\n')\n",
    "\n",
    "num1 = 0\n",
    "\n",
    "print('while文の開始')\n",
    "\n",
    "while num1<5:\n",
    "    if num1 == 2: # num1の値が2の場合、以降の処理をスキップするため、「2 回目の処理です。」と「Hello Python!」は出力されません。\n",
    "        num1 = num1 +1\n",
    "        continue\n",
    "    print(num1,'回目の処理です。')\n",
    "    print(\"Hello Python!\")\n",
    "    num1 = num1 +1\n",
    "print('while文の終了')"
   ]
  },
  {
   "cell_type": "markdown",
   "metadata": {},
   "source": [
    "### for/while での else\n",
    "\n",
    "- Python では for/while ループに else 節をつけることができます。\n",
    "- else 節は for/while ループ内で break しなかった時に、ループの最後で実行されます。\n",
    "- 逆にいうと break がない for/while での else 節はあまり意味がありません。\n"
   ]
  },
  {
   "cell_type": "code",
   "execution_count": 1,
   "metadata": {},
   "outputs": [
    {
     "name": "stdout",
     "output_type": "stream",
     "text": [
      "Not found Alice\n"
     ]
    }
   ],
   "source": [
    "a = ['Tom', 'Ken', 'Mike', 'Alise']\n",
    "for p in a:\n",
    "    if p == 'Alice':\n",
    "        print('Found Alice')\n",
    "        break\n",
    "else:\n",
    "    print('Not found Alice')\n"
   ]
  },
  {
   "cell_type": "markdown",
   "metadata": {},
   "source": [
    "## 代入式\n",
    "\n",
    "Python 3.8 以降では、代入式と呼ばれる機能が使用できます。\n",
    "\n",
    "代入式とは「値を返す代入」のことです。代入記号として ':=' を使います。代入式をうまく使うと、分岐や繰り返しがシンプルに書けるようになります。\n",
    "\n",
    "(例)　「input()で 'Q' が入力されるまで、入力された文字列をそのままprintする」"
   ]
  },
  {
   "cell_type": "code",
   "execution_count": null,
   "metadata": {},
   "outputs": [],
   "source": [
    "# 代入式を使わない\n",
    "\n",
    "# 無限ループ\n",
    "while True:\n",
    "    keyin = input('文字列を入力してください。(Qで終了)')\n",
    "    # 'Q' なら break\n",
    "    if keyin == 'Q':\n",
    "        break\n",
    "    else:\n",
    "        print(keyin)"
   ]
  },
  {
   "cell_type": "code",
   "execution_count": null,
   "metadata": {},
   "outputs": [],
   "source": [
    "# 代入式を使う\n",
    "\n",
    "# 代入した値でそのまま判断が可能\n",
    "while (keyin := input('文字列を入力してください。(Qで終了)')) != 'Q':\n",
    "    print(keyin)"
   ]
  }
 ],
 "metadata": {
  "celltoolbar": "Attachments",
  "kernelspec": {
   "display_name": "Python 3 (ipykernel)",
   "language": "python",
   "name": "python3"
  },
  "language_info": {
   "codemirror_mode": {
    "name": "ipython",
    "version": 3
   },
   "file_extension": ".py",
   "mimetype": "text/x-python",
   "name": "python",
   "nbconvert_exporter": "python",
   "pygments_lexer": "ipython3",
   "version": "3.8.16"
  },
  "latex_envs": {
   "LaTeX_envs_menu_present": true,
   "bibliofile": "biblio.bib",
   "cite_by": "apalike",
   "current_citInitial": 1,
   "eqLabelWithNumbers": true,
   "eqNumInitial": 1,
   "labels_anchors": false,
   "latex_user_defs": false,
   "report_style_numbering": false,
   "user_envs_cfg": false
  },
  "toc": {
   "colors": {
    "hover_highlight": "#DAA520",
    "running_highlight": "#FF0000",
    "selected_highlight": "#FFD700"
   },
   "moveMenuLeft": true,
   "nav_menu": {
    "height": "271px",
    "width": "251px"
   },
   "navigate_menu": true,
   "number_sections": true,
   "sideBar": true,
   "threshold": 4,
   "toc_cell": false,
   "toc_section_display": "block",
   "toc_window_display": false
  }
 },
 "nbformat": 4,
 "nbformat_minor": 4
}

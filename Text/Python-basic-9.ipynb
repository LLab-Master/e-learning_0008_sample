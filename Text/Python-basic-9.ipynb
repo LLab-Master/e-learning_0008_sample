{
 "cells": [
  {
   "cell_type": "markdown",
   "metadata": {},
   "source": [
    "## 例外処理"
   ]
  },
  {
   "cell_type": "markdown",
   "metadata": {},
   "source": [
    "### 例外とは\n",
    "\n",
    "プログラムを実行し、処理を行なった結果、エラーが発生することを<u> ** 例外 ** </u>と言います。  \n",
    "例外が発生した場合、try-except文を使用して適切に対処を行う必要があります。 \n",
    "\n",
    "~~~\n",
    "try: \n",
    "    例外が発生する可能性のある処理\n",
    "except エラー名:\n",
    "    例外が発生した場合に行う処理\n",
    "~~~\n",
    "\n",
    "tryの中に、例外が発生する可能性のある処理を記述します。  \n",
    "tryの中の処理で、exceptの後に指定したエラー名の例外が発生した場合、exceptの中の処理が実行されます。  \n",
    "例外が発生しなかった場合、exceptの中の処理はスキップされます。  \n"
   ]
  },
  {
   "cell_type": "code",
   "execution_count": 13,
   "metadata": {},
   "outputs": [
    {
     "name": "stdout",
     "output_type": "stream",
     "text": [
      "変数が定義されていません\n"
     ]
    }
   ],
   "source": [
    "try:\n",
    "    print(aaa) # 定義されていない変数aaaをprintで使用しているので、NameErrorの例外が発生する。\n",
    "except NameError:\n",
    "    print('変数が定義されていません') # NameErrorの例外が発生した場合にメッセージを表示する。"
   ]
  },
  {
   "cell_type": "code",
   "execution_count": 14,
   "metadata": {},
   "outputs": [
    {
     "name": "stdout",
     "output_type": "stream",
     "text": [
      "not found\n"
     ]
    }
   ],
   "source": [
    "b = {'a':10}\n",
    "try:\n",
    "    print(b['x'])\n",
    "except Exception:\n",
    "    print('not found')"
   ]
  },
  {
   "cell_type": "code",
   "execution_count": 15,
   "metadata": {},
   "outputs": [
    {
     "name": "stdout",
     "output_type": "stream",
     "text": [
      "None\n"
     ]
    }
   ],
   "source": [
    "b = {'a':10}\n",
    "#print(b['x'])\n",
    "print(b.get('x'))"
   ]
  },
  {
   "cell_type": "markdown",
   "metadata": {},
   "source": [
    "### 複数の例外処理  \n",
    "tryの中で複数の例外が発生する可能性がある場合、exceptを複数使用することで各例外に応じた処理を行うことができます。  "
   ]
  },
  {
   "cell_type": "code",
   "execution_count": 16,
   "metadata": {},
   "outputs": [
    {
     "name": "stdout",
     "output_type": "stream",
     "text": [
      "数値1は1です\n",
      "数値2は1です\n",
      "数値1を数値2で割ると 1.0 です\n"
     ]
    }
   ],
   "source": [
    "try:\n",
    "    value1 = input('数値1を入力してください。')\n",
    "    value2 = input('数値2を入力してください。')\n",
    "    num = int(value1) / int(value2)\n",
    "    print('数値1は'+ value1 + 'です')\n",
    "    print('数値2は'+ value2 + 'です')\n",
    "    print('数値1を数値2で割ると',num,'です')\n",
    "except ValueError:\n",
    "    print('入力した文字が数値ではありません') # ValueErrorの例外が発生した場合にメッセージを表示する。\n",
    "except ZeroDivisionError:\n",
    "    print('0は入力できません') # ZeroDivisionErrorの例外が発生した場合にメッセージを表示する。"
   ]
  },
  {
   "cell_type": "markdown",
   "metadata": {},
   "source": [
    "### finally  \n",
    "tryの中で例外の発生の有無に関わらず、必ず行う処理はfinallyに記述します。\n",
    "\n",
    "~~~\n",
    "try: \n",
    "    例外が発生する可能性のある処理\n",
    "except エラー名:\n",
    "    例外が発生した場合に行う処理\n",
    "finally:\n",
    "    例外の発生の有無に関わらず必ず実行する処理\n",
    "~~~"
   ]
  },
  {
   "cell_type": "code",
   "execution_count": 17,
   "metadata": {},
   "outputs": [
    {
     "name": "stdout",
     "output_type": "stream",
     "text": [
      "数値1は1です\n",
      "数値2は1です\n",
      "数値1を数値2で割ると 1.0 です\n",
      "処理を終了します。\n"
     ]
    }
   ],
   "source": [
    "try:\n",
    "    value1 = input('数値1を入力してください。')\n",
    "    value2 = input('数値2を入力してください。')\n",
    "    num = int(value1) / int(value2)\n",
    "    print('数値1は'+ value1 + 'です')\n",
    "    print('数値2は'+ value2 + 'です')\n",
    "    print('数値1を数値2で割ると',num,'です')\n",
    "except ValueError:\n",
    "    print('入力した文字が数値ではありません') # ValueErrorの例外が発生した場合にメッセージを表示する。\n",
    "except ZeroDivisionError:\n",
    "    print('0は入力できません') # ZeroDivisionErrorの例外が発生した場合にメッセージを表示する。\n",
    "finally:\n",
    "    print('処理を終了します。') # 例外の有無に関わらず実行する。"
   ]
  },
  {
   "cell_type": "markdown",
   "metadata": {},
   "source": [
    "### 意図的に例外を発生させる  \n",
    "処理の中で、意図的に例外を発生させる場合は、raiseを使用します。\n",
    "\n",
    "~~~\n",
    "try:\n",
    "    raise エラー名\n",
    "except:\n",
    "    例外が発生した場合に行う処理\n",
    "~~~"
   ]
  },
  {
   "cell_type": "code",
   "execution_count": 18,
   "metadata": {},
   "outputs": [
    {
     "name": "stdout",
     "output_type": "stream",
     "text": [
      "TypeErrorが発生しました。\n"
     ]
    }
   ],
   "source": [
    "try:\n",
    "    raise TypeError\n",
    "    print('OK')\n",
    "except TypeError:\n",
    "    print('TypeErrorが発生しました。')"
   ]
  },
  {
   "cell_type": "markdown",
   "metadata": {},
   "source": [
    "### 例外の種類\n",
    "Pythonの例外クラスは以下の通りです。\n",
    "\n",
    "~~~\n",
    "BaseException\n",
    " +-- SystemExit\n",
    " +-- KeyboardInterrupt\n",
    " +-- GeneratorExit\n",
    " +-- Exception\n",
    "      +-- StopIteration\n",
    "      +-- StopAsyncIteration\n",
    "      +-- ArithmeticError\n",
    "      |    +-- FloatingPointError\n",
    "      |    +-- OverflowError\n",
    "      |    +-- ZeroDivisionError\n",
    "      +-- AssertionError\n",
    "      +-- AttributeError\n",
    "      +-- BufferError\n",
    "      +-- EOFError\n",
    "      +-- ImportError\n",
    "      |    +-- ModuleNotFoundError\n",
    "      +-- LookupError\n",
    "      |    +-- IndexError\n",
    "      |    +-- KeyError\n",
    "      +-- MemoryError\n",
    "      +-- NameError\n",
    "      |    +-- UnboundLocalError\n",
    "      +-- OSError\n",
    "      |    +-- BlockingIOError\n",
    "      |    +-- ChildProcessError\n",
    "      |    +-- ConnectionError\n",
    "      |    |    +-- BrokenPipeError\n",
    "      |    |    +-- ConnectionAbortedError\n",
    "      |    |    +-- ConnectionRefusedError\n",
    "      |    |    +-- ConnectionResetError\n",
    "      |    +-- FileExistsError\n",
    "      |    +-- FileNotFoundError\n",
    "      |    +-- InterruptedError\n",
    "      |    +-- IsADirectoryError\n",
    "      |    +-- NotADirectoryError\n",
    "      |    +-- PermissionError\n",
    "      |    +-- ProcessLookupError\n",
    "      |    +-- TimeoutError\n",
    "      +-- ReferenceError\n",
    "      +-- RuntimeError\n",
    "      |    +-- NotImplementedError\n",
    "      |    +-- RecursionError\n",
    "      +-- SyntaxError\n",
    "      |    +-- IndentationError\n",
    "      |         +-- TabError\n",
    "      +-- SystemError\n",
    "      +-- TypeError\n",
    "      +-- ValueError\n",
    "      |    +-- UnicodeError\n",
    "      |         +-- UnicodeDecodeError\n",
    "      |         +-- UnicodeEncodeError\n",
    "      |         +-- UnicodeTranslateError\n",
    "      +-- Warning\n",
    "           +-- DeprecationWarning\n",
    "           +-- PendingDeprecationWarning\n",
    "           +-- RuntimeWarning\n",
    "           +-- SyntaxWarning\n",
    "           +-- UserWarning\n",
    "           +-- FutureWarning\n",
    "           +-- ImportWarning\n",
    "           +-- UnicodeWarning\n",
    "           +-- BytesWarning\n",
    "           +-- ResourceWarning\n",
    "~~~"
   ]
  },
  {
   "cell_type": "code",
   "execution_count": 19,
   "metadata": {},
   "outputs": [
    {
     "name": "stdout",
     "output_type": "stream",
     "text": [
      "ファイルが見つかりません\n"
     ]
    }
   ],
   "source": [
    "# ファイル読み込みに例外処理を加えたサンプル\n",
    "try:\n",
    "    with open('read.txt','r') as f: # 存在しないファイル名を指定する\n",
    "        print(f.read())\n",
    "except FileNotFoundError:\n",
    "    print('ファイルが見つかりません')"
   ]
  }
 ],
 "metadata": {
  "kernelspec": {
   "display_name": "Python 3 (ipykernel)",
   "language": "python",
   "name": "python3"
  },
  "language_info": {
   "codemirror_mode": {
    "name": "ipython",
    "version": 3
   },
   "file_extension": ".py",
   "mimetype": "text/x-python",
   "name": "python",
   "nbconvert_exporter": "python",
   "pygments_lexer": "ipython3",
   "version": "3.8.16"
  }
 },
 "nbformat": 4,
 "nbformat_minor": 4
}

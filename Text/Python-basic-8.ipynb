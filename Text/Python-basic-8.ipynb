{
 "cells": [
  {
   "cell_type": "markdown",
   "metadata": {},
   "source": [
    "# ファイル入出力"
   ]
  },
  {
   "cell_type": "markdown",
   "metadata": {},
   "source": [
    "## ファイルの読み込み"
   ]
  },
  {
   "cell_type": "markdown",
   "metadata": {},
   "source": [
    "### オープン\n",
    "\n",
    "Pythonでファイルを読み込むには、まずopenメソッドを使用してファイルを開きます。  \n",
    "引数には、ファイルパスとファイルをオープンする際のモードを指定します。  \n",
    "\n",
    "~~~\n",
    "変数名 = open('ファイルパス', 'モード')\n",
    "~~~\n",
    "\n",
    "|モード|意味|\n",
    "|---|---|\n",
    "|r|読み込み|\n",
    "|w|上書きして書き込み|\n",
    "|a|追記して書き込み|\n",
    "|r+|読み込みと書き込み。既存の内容は上書きされる|\n",
    "|w+|読み込みと書き込み。ファイルの内容は全てクリアされてから書き込む|\n",
    "|a+|読み込みと書き込み。追記して書き込む|\n",
    "|b|バイナリモード|\n",
    "\n",
    "一度開いたファイルはcloseメソッドで閉じることができます。  "
   ]
  },
  {
   "cell_type": "code",
   "execution_count": 1,
   "metadata": {},
   "outputs": [],
   "source": [
    "file = open('test.txt', 'w')\n",
    "\n",
    "file.close()"
   ]
  },
  {
   "cell_type": "markdown",
   "metadata": {},
   "source": [
    "closeメソッドのファイルの閉じ忘れを防ぐために、ファイルを開く際はwith文の使用が推奨されています。  \n",
    "with文を使用すると、closeメソッドを記述しなくてもwith文の処理を終了時に自動的にファイルが閉じられます。  \n",
    "with文を使用してファイルを開く際の記述の仕方は以下の通りです。  \n",
    "\n",
    "~~~\n",
    "with open('ファイルパス', 'モード') as 変数名:\n",
    "    処理\n",
    "    ・\n",
    "    ・\n",
    "    ・\n",
    "~~~"
   ]
  },
  {
   "cell_type": "code",
   "execution_count": 2,
   "metadata": {},
   "outputs": [],
   "source": [
    "with open('test.txt', 'w') as file:\n",
    "    pass\n"
   ]
  },
  {
   "cell_type": "markdown",
   "metadata": {},
   "source": [
    "### ファイルの全ての内容を読み込む  \n",
    "ファイルの内容を全て読み込むには、readメソッドを使用します。  \n",
    "readメソッドを使用して読み込んだ内容は文字列になります。\n",
    "\n",
    "~~~\n",
    "ファイル.read()\n",
    "~~~\n",
    "\n",
    "### ファイルの内容を1行だけ読み込む\n",
    "フェイルの内容を1行ずつ読み込みたい場合は、readlineメソッドを使用します。  \n",
    "\n",
    "~~~\n",
    "ファイル.readline()\n",
    "~~~\n",
    "\n",
    "\n",
    "### ファイルの全ての内容を1行ずつ読み込む  \n",
    "ファイルの全ての内容を1行ずつ読み込みたい場合は、readlinesメソッドを使用します。  \n",
    "readlinesメソッドを使用して読み込んだ内容は、1行ごとを要素としてリストに格納されます。  \n",
    "\n",
    "~~~\n",
    "ファイル.readlines()\n",
    "~~~"
   ]
  },
  {
   "cell_type": "code",
   "execution_count": 3,
   "metadata": {},
   "outputs": [
    {
     "name": "stdout",
     "output_type": "stream",
     "text": [
      "1,Python\n",
      "2,Java\n",
      "3,Ruby\n"
     ]
    }
   ],
   "source": [
    "# ファイルを読み込みモードで開く\n",
    "with open('readTest.txt','r') as f:\n",
    "    print(f.read()) # ファイルの全ての内容を読み込み\n",
    "    "
   ]
  },
  {
   "cell_type": "code",
   "execution_count": 4,
   "metadata": {},
   "outputs": [
    {
     "name": "stdout",
     "output_type": "stream",
     "text": [
      "1,Python\n",
      "2,Java\n"
     ]
    }
   ],
   "source": [
    "# ファイルを読み込みモードで開く\n",
    "with open('readTest.txt','r') as f:\n",
    "    print(f.readline(), end='') # ファイルの内容を1行だけ読み込み\n",
    "    print(f.readline(), end='') # ファイルの内容を1行だけ読み込み"
   ]
  },
  {
   "cell_type": "code",
   "execution_count": 5,
   "metadata": {},
   "outputs": [
    {
     "name": "stdout",
     "output_type": "stream",
     "text": [
      "['1,Python\\n', '2,Java\\n', '3,Ruby']\n",
      "1,Python\n",
      "2,Java\n",
      "3,Ruby"
     ]
    }
   ],
   "source": [
    "# ファイルを読み込みモードで開く\n",
    "with open('readTest.txt','r') as f:\n",
    "    list1 = f.readlines()\n",
    "    print(list1) # ファイルの全ての内容を1行ずつリストとして読み込み\n",
    "\n",
    "for line in list1:\n",
    "    print(line, end='')"
   ]
  },
  {
   "cell_type": "markdown",
   "metadata": {},
   "source": [
    "## ファイルの書き込み"
   ]
  },
  {
   "cell_type": "markdown",
   "metadata": {},
   "source": [
    "### オープン\n",
    "Pythonでファイルに書き込みを行うには、読み込む際と同様に、まずopenメソッドを使用してファイルを開きます。  \n",
    "この時、openメソッドの引数のモードは「w」や「a」を指定します。  \n",
    "\n",
    "### 文字列の書き込み  \n",
    "文字列をファイルに書き込む際は、writeメソッドを使用します。  \n",
    "書き込めるのは文字列のみなので、数値型などの文字列以外の値を書き込む場合はstrメソッドを使用して、文字列に変換をしてから書き込みます。\n",
    "\n",
    "~~~\n",
    "ファイル.write(書き込む文字列)\n",
    "~~~\n",
    "\n",
    "### リストやタプルなどの書き込み  \n",
    "リストやタプルなどの内容をファイルに書き込み際は、writelinesメソッドを使用します。  \n",
    "\n",
    "~~~\n",
    "ファイル.writelines(書き込むリストやタプル)\n",
    "~~~"
   ]
  },
  {
   "cell_type": "code",
   "execution_count": 6,
   "metadata": {},
   "outputs": [
    {
     "name": "stdout",
     "output_type": "stream",
     "text": [
      "=== 上書き前 ===\n",
      "write test\n",
      "=== 上書き後 ===\n",
      "write test\n"
     ]
    }
   ],
   "source": [
    "# ファイルの内容を確認\n",
    "def readFile():\n",
    "    with open('writeTest1.txt','r') as rf:\n",
    "        print(rf.read())\n",
    "    \n",
    "# ファイルの内容を確認\n",
    "print('=== 上書き前 ===')\n",
    "readFile()\n",
    "    \n",
    "# ファイルを上書きして書き込むモードで開く\n",
    "with open('writeTest1.txt','w') as wf:\n",
    "    wf.write('write test')\n",
    "\n",
    "#　上書きしたファイルの内容を確認\n",
    "print('=== 上書き後 ===')\n",
    "readFile()"
   ]
  },
  {
   "cell_type": "code",
   "execution_count": 7,
   "metadata": {},
   "outputs": [
    {
     "name": "stdout",
     "output_type": "stream",
     "text": [
      "=== 追記前 ===\n",
      "abcabcabcabcabc\n",
      "=== 追記後 ===\n",
      "abcabcabcabcabcabc\n"
     ]
    }
   ],
   "source": [
    "# ファイルの内容を確認\n",
    "def readFile():\n",
    "    with open('writeTest2.txt','r') as rf:\n",
    "        print(rf.read())\n",
    "    \n",
    "# ファイルの内容を確認\n",
    "print('=== 追記前 ===')\n",
    "readFile()\n",
    "    \n",
    "# ファイルを追記して書き込むモードで開く\n",
    "with open('writeTest2.txt','a') as wf:\n",
    "    wline = ['a', 'b', 'c']\n",
    "    wf.writelines(wline) #改行処理は自分で実装\n",
    "\n",
    "#　追記したファイルの内容を確認\n",
    "print('=== 追記後 ===')\n",
    "readFile()"
   ]
  },
  {
   "cell_type": "markdown",
   "metadata": {},
   "source": [
    "## 8.3 CSVファイルの読み書き"
   ]
  },
  {
   "cell_type": "markdown",
   "metadata": {},
   "source": [
    "### CSVモジュール\n",
    "PythonでCSVファイルを扱うには、csvモジュールを使用します。  \n",
    "\n",
    "~~~\n",
    "import csv\n",
    "~~~\n",
    "\n",
    "### CSVファイルの読み込み\n",
    "通常のファイル読み込みと同様に、openメソッドを使用してまずCSVファイルを開きます。\n",
    "\n",
    "~~~\n",
    "変数名 = open('CSVファイルパス', 'モード')\n",
    "~~~\n",
    "\n",
    "CSVファイルの内容をリストとして読み込むには、readerメソッドを使用します。  \n",
    "\n",
    "~~~\n",
    "csv.reader(ファイル変数名)\n",
    "~~~\n",
    "\n",
    "リストではなく、DictReaderメソッドを使用して、辞書として読み込むこともできます。  \n",
    "DictReaderメソッドは、引数としてfieldnamesを持ち、フィールド名を指定してCSVファイルの内容を読み込みます。\n",
    "\n",
    "~~~\n",
    "csv.DictReader(ファイル変数名,fieldnamdes=[フィールド名1,フィールド名2・・・])\n",
    "~~~\n"
   ]
  },
  {
   "cell_type": "code",
   "execution_count": 8,
   "metadata": {},
   "outputs": [
    {
     "name": "stdout",
     "output_type": "stream",
     "text": [
      "['No', 'Lang', 'Class', 'Level']\n",
      "['1', 'Python', 'A', 'Beginner']\n",
      "['2', 'Java', 'B', 'Beginner']\n",
      "['3', 'Ruby', 'C', 'Master']\n"
     ]
    }
   ],
   "source": [
    "# csvモジュールの読み込み\n",
    "import csv\n",
    "\n",
    "with open('testRead.csv','r') as rcsv:\n",
    "    for num in csv.reader(rcsv): # CSVファイルの内容をリストで全て読み込む\n",
    "        print(num)"
   ]
  },
  {
   "cell_type": "code",
   "execution_count": 9,
   "metadata": {},
   "outputs": [
    {
     "name": "stdout",
     "output_type": "stream",
     "text": [
      "{'id': 'No', 'name': 'Lang', 'course': 'Class', 'level': 'Level'}\n",
      "{'id': '1', 'name': 'Python', 'course': 'A', 'level': 'Beginner'}\n",
      "{'id': '2', 'name': 'Java', 'course': 'B', 'level': 'Beginner'}\n",
      "{'id': '3', 'name': 'Ruby', 'course': 'C', 'level': 'Master'}\n"
     ]
    }
   ],
   "source": [
    "# csvモジュールの読み込み\n",
    "import csv\n",
    "\n",
    "with open('testRead.csv','r') as rcsv:\n",
    "    for num in csv.DictReader(rcsv,fieldnames=['id','name','course','level']): # CSVファイルの内容をフィールド名を指定して、辞書型で全て読み込む\n",
    "        print(num)\n",
    "#        print(num['id'])\n",
    "#辞書として扱える。\n",
    "#OrderdDictは順序を保持した辞書のこと。\n"
   ]
  },
  {
   "cell_type": "code",
   "execution_count": 10,
   "metadata": {},
   "outputs": [
    {
     "name": "stdout",
     "output_type": "stream",
     "text": [
      "{'No': '1', 'Lang': 'Python', 'Class': 'A', 'Level': 'Beginner'}\n",
      "{'No': '2', 'Lang': 'Java', 'Class': 'B', 'Level': 'Beginner'}\n",
      "{'No': '3', 'Lang': 'Ruby', 'Class': 'C', 'Level': 'Master'}\n"
     ]
    }
   ],
   "source": [
    "# csvモジュールの読み込み\n",
    "import csv\n",
    "\n",
    "with open('testRead.csv','r') as rcsv:\n",
    "    for num in csv.DictReader(rcsv): # フィールド名を指定しない場合は、1行目のデータがフィールド名として解釈されます。\n",
    "        print(num)"
   ]
  },
  {
   "cell_type": "markdown",
   "metadata": {},
   "source": [
    "### CSVファイルの書き込み  \n",
    "CSVファイルに書き込みを行うには、読み込む際と同様に、まずopenメソッドを使用してファイルを開きます。  \n",
    "openメソッドの引数のモードは「w」や「a」を指定します。\n",
    "この際に、「newline=''」を指定しないと、書き込んだCSVファイルに余分な空白行が発生します。\n",
    "\n",
    "~~~\n",
    "open(CSVファイルパス,モード,newline='')\n",
    "~~~\n",
    "\n",
    "\n",
    "次に、writerメソッドを使用し、writerオブジェクトを作成します。\n",
    "~~~\n",
    "csv.writer(CSVファイル変数名,newline='')\n",
    "~~~\n",
    "\n",
    "### 1行だけ書き込む  \n",
    "CSVファイルに1行だけ書き込みたい場合は、writerowメソッドを使用します。  \n",
    "引数には、書き込みたい文字列のリストを指定します。\n",
    "\n",
    "~~~\n",
    "writerオブジェクト.writerow(書き込む文字列のリスト)\n",
    "~~~\n",
    "\n",
    "### 複数行の書き込み  \n",
    "CSVファイルに複数行の書き込みを行う場合は、writerowsメソッドを使用します。  \n",
    "\n",
    "~~~\n",
    "writerオブジェクト.writerows(書き込む文字列のリストのリスト)\n",
    "~~~"
   ]
  },
  {
   "cell_type": "code",
   "execution_count": 11,
   "metadata": {},
   "outputs": [
    {
     "name": "stdout",
     "output_type": "stream",
     "text": [
      "=== 上書き前 ===\n",
      "['4', 'Swift', 'C', 'Beginner']\n",
      "=== 上書き後 ===\n",
      "['4', 'Swift', 'C', 'Beginner']\n"
     ]
    }
   ],
   "source": [
    "# csvモジュールの読み込み\n",
    "import csv\n",
    "\n",
    "# CSVファイルの内容を確認\n",
    "def readCSVFile():\n",
    "    with open('testWrite1.csv','r') as rcsv:\n",
    "        for num in csv.reader(rcsv): # CSVファイルの内容をリストで全て読み込む\n",
    "            print(num)\n",
    "    \n",
    "# CSVファイルの内容を確認\n",
    "print('=== 上書き前 ===')\n",
    "readCSVFile()\n",
    "\n",
    "# CSVファイルを上書きして書き込むモードで開く\n",
    "with open('testWrite1.csv','w',newline='') as wcsv:\n",
    "    writer = csv.writer(wcsv) # writerオブジェクトの作成\n",
    "    writer.writerow([4,'Swift','C','Beginner']) # 1行だけ書き込む\n",
    "\n",
    "#　上書きしたCSVファイルの内容を確認\n",
    "print('=== 上書き後 ===')\n",
    "readCSVFile()"
   ]
  },
  {
   "cell_type": "code",
   "execution_count": 12,
   "metadata": {},
   "outputs": [
    {
     "name": "stdout",
     "output_type": "stream",
     "text": [
      "===  追記前 ===\n",
      "['No', 'Lang', 'Class', 'Level']\n",
      "['1', 'Python', 'A', 'Beginner']\n",
      "['2', 'Java', 'B', 'Beginner']\n",
      "['3', 'Ruby', 'C', 'Master4', 'Swift', 'A', 'Beginner']\n",
      "['5', 'javascript', 'B', 'Master']\n",
      "['4', 'Swift', 'A', 'Beginner']\n",
      "['5', 'javascript', 'B', 'Master']\n",
      "=== 追記後 ===\n",
      "['No', 'Lang', 'Class', 'Level']\n",
      "['1', 'Python', 'A', 'Beginner']\n",
      "['2', 'Java', 'B', 'Beginner']\n",
      "['3', 'Ruby', 'C', 'Master4', 'Swift', 'A', 'Beginner']\n",
      "['5', 'javascript', 'B', 'Master']\n",
      "['4', 'Swift', 'A', 'Beginner']\n",
      "['5', 'javascript', 'B', 'Master']\n",
      "['4', 'Swift', 'A', 'Beginner']\n",
      "['5', 'javascript', 'B', 'Master']\n"
     ]
    }
   ],
   "source": [
    "# csvモジュールの読み込み\n",
    "import csv\n",
    "\n",
    "# CSVファイルの内容を確認\n",
    "def readCSVFile():\n",
    "    with open('testWrite2.csv','r') as rcsv:\n",
    "        for num in csv.reader(rcsv): # CSVファイルの内容をリストで全て読み込む\n",
    "            print(num)\n",
    "    \n",
    "# CSVファイルの内容を確認\n",
    "print('===  追記前 ===')\n",
    "readCSVFile()\n",
    "\n",
    "# CSVファイルを追記して書き込むモードで開く\n",
    "with open('testWrite2.csv','a',newline='') as wcsv:\n",
    "    writer = csv.writer(wcsv) # writerオブジェクトの作成\n",
    "    list1 = [[4,'Swift','A','Beginner'],[5,'javascript','B','Master']]\n",
    "    writer.writerows(list1) # 複数行書き込む\n",
    "\n",
    "#　上書きしたCSVファイルの内容を確認\n",
    "print('=== 追記後 ===')\n",
    "readCSVFile()"
   ]
  }
 ],
 "metadata": {
  "kernelspec": {
   "display_name": "Python 3",
   "language": "python",
   "name": "python3"
  },
  "language_info": {
   "codemirror_mode": {
    "name": "ipython",
    "version": 3
   },
   "file_extension": ".py",
   "mimetype": "text/x-python",
   "name": "python",
   "nbconvert_exporter": "python",
   "pygments_lexer": "ipython3",
   "version": "3.8.5"
  },
  "latex_envs": {
   "LaTeX_envs_menu_present": true,
   "bibliofile": "biblio.bib",
   "cite_by": "apalike",
   "current_citInitial": 1,
   "eqLabelWithNumbers": true,
   "eqNumInitial": 1,
   "labels_anchors": false,
   "latex_user_defs": false,
   "report_style_numbering": false,
   "user_envs_cfg": false
  },
  "toc": {
   "colors": {
    "hover_highlight": "#DAA520",
    "running_highlight": "#FF0000",
    "selected_highlight": "#FFD700"
   },
   "moveMenuLeft": true,
   "nav_menu": {
    "height": "327.167px",
    "width": "251.533px"
   },
   "navigate_menu": true,
   "number_sections": true,
   "sideBar": true,
   "threshold": 4,
   "toc_cell": false,
   "toc_section_display": "block",
   "toc_window_display": false
  }
 },
 "nbformat": 4,
 "nbformat_minor": 4
}

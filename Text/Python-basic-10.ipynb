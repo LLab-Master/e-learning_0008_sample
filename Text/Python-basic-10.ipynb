{
 "cells": [
  {
   "cell_type": "markdown",
   "metadata": {},
   "source": [
    "# クラス"
   ]
  },
  {
   "cell_type": "markdown",
   "metadata": {},
   "source": [
    "## クラスの定義"
   ]
  },
  {
   "cell_type": "markdown",
   "metadata": {},
   "source": [
    "### クラスとは\n",
    "何か「モノ」を作るための「設計図」や「型」の様なもの。  \n",
    "設計図であるクラスには、属性(プロパティ)と操作(メソッド)を定義する。  \n",
    "\n",
    "~~~\n",
    "class クラス名:\n",
    "    コンストラクタやメソッドの定義\n",
    "~~~"
   ]
  },
  {
   "cell_type": "markdown",
   "metadata": {},
   "source": [
    "### コンストラクタ  \n",
    "\n",
    "クラスに属性がある場合は、 **コンストラクタ**と呼ばれるメソッドで属性の定義と初期化を行います。 \n",
    "\n",
    "**属性の定義**  \n",
    "「このクラスはこんな属性を持っていますよ」と宣言すること。\n",
    "\n",
    "**初期化**  \n",
    "クラスが持っている属性に最初の値を設定する作業のこと。  \n",
    "コンストラクタはクラスの中で一番最初に呼ばれるメソッドになります。  \n",
    "\n",
    "self以外の引数は省略可能です。引数は複数指定することもできます。  \n",
    "属性は「self.属性名」の形式で定義を行います。　　\n",
    "\n",
    "~~~\n",
    "class クラス名:\n",
    "    def __init__(self,引数1,引数2,…):\n",
    "        self.属性名1 = 引数1\n",
    "        self.属性名2 = 引数2 \n",
    "~~~\n",
    "\n"
   ]
  },
  {
   "cell_type": "code",
   "execution_count": 1,
   "metadata": {},
   "outputs": [],
   "source": [
    "class NewClass:\n",
    "    pass\n",
    "\n",
    "new_class = NewClass()"
   ]
  },
  {
   "cell_type": "code",
   "execution_count": 2,
   "metadata": {},
   "outputs": [],
   "source": [
    "class Person: # 人間クラスの定義\n",
    "    #コンストラクタ。クラスがもつ属性の定義と初期化を行う。\n",
    "    def __init__(self,name1,age1):\n",
    "        self.name = name1\n",
    "        self.age = age1"
   ]
  },
  {
   "cell_type": "code",
   "execution_count": 3,
   "metadata": {},
   "outputs": [],
   "source": [
    "person1 = Person('Taro', 15)"
   ]
  },
  {
   "cell_type": "code",
   "execution_count": 4,
   "metadata": {},
   "outputs": [
    {
     "name": "stdout",
     "output_type": "stream",
     "text": [
      "Taro\n",
      "15\n"
     ]
    }
   ],
   "source": [
    "print(person1.name)\n",
    "print(person1.age)"
   ]
  },
  {
   "cell_type": "markdown",
   "metadata": {},
   "source": [
    "### メソッド  \n",
    "クラスがどういう「動き」を持つのかを定義したものです。コンストラクタもメソッドのひとつです。  \n",
    "\n",
    "~~~\n",
    "class クラス名:\n",
    "    def メソッド名(self,引数1,引数2,…):\n",
    "        処理\n",
    "        return 戻り値   \n",
    "~~~\n",
    "\n",
    "\n",
    "self以外の引数は省略可能です。引数は複数指定することもできます。    \n",
    "メソッド内で処理が完結する場合は、戻り値は省略可能です。  \n",
    "メソッドは以下のパターンで定義することができます。　  \n",
    "\n",
    "|引数&nbsp;&nbsp;&nbsp;&nbsp;&nbsp;&nbsp;&nbsp;&nbsp;&nbsp;&nbsp;|戻り値&nbsp;&nbsp;&nbsp;&nbsp;&nbsp;&nbsp;&nbsp;&nbsp;&nbsp;&nbsp;|\n",
    "|---|---|\n",
    "|なし|なし|\n",
    "|あり|なし|\n",
    "|なし|あり|\n",
    "|あり|あり|"
   ]
  },
  {
   "cell_type": "code",
   "execution_count": 5,
   "metadata": {},
   "outputs": [],
   "source": [
    "class Person: # 人間クラスの定義\n",
    "    #コンストラクタ。クラスがもつ属性の定義と初期化を行う。\n",
    "    def __init__(self,name,age):\n",
    "        self.name = name\n",
    "        self.age = age\n",
    "        \n",
    "    # 自己紹介をする。\n",
    "    def selfIntroduction(self):\n",
    "        print('Hello! My name is ',\n",
    "              self.name,', I am ',self.age,' years old.')\n",
    " \n",
    "    # 挨拶をする。\n",
    "    def greet(self,greetWord):\n",
    "        print(greetWord)\n",
    " \n",
    "    # 名前を答える。\n",
    "    def answerName(self):\n",
    "        return self.name\n",
    " \n",
    "    # 年齢を答える。\n",
    "    def answerAge(self):\n",
    "        return self.age"
   ]
  },
  {
   "cell_type": "markdown",
   "metadata": {},
   "source": [
    "## クラスの利用"
   ]
  },
  {
   "cell_type": "markdown",
   "metadata": {},
   "source": [
    "### インスタンスの作成  \n",
    "作成したクラスを元にして、実際に作った「モノ」を**インスタンス**といいます。  \n",
    "\n",
    "~~~\n",
    "変数名 = クラス名(引数1に渡す値,引数2に渡す値,…)\n",
    "~~~\n",
    "\n",
    "インスタンスを作成することで、クラスで定義した属性やメソッドを利用することができます。  \n",
    "\n",
    "~~~\n",
    "変数名.属性名\n",
    "変数名.メソッド名(引数1に渡す値,引数2に渡す値,…)\n",
    "~~~"
   ]
  },
  {
   "cell_type": "code",
   "execution_count": 6,
   "metadata": {},
   "outputs": [
    {
     "name": "stdout",
     "output_type": "stream",
     "text": [
      "Yamada\n",
      "Hello! My name is  Yamada , I am  24  years old.\n",
      "Hello! My name is  Yamada , I am  24  years old.\n",
      "Hello! My name is  Sato , I am  25  years old.\n",
      "Hello! My name is  Kato , I am  30  years old.\n"
     ]
    }
   ],
   "source": [
    "person1 = Person('Yamada',24) # インスタンスの作成\n",
    "# 属性の呼び出し\n",
    "print(person1.name)\n",
    "# メソッドの呼び出し\n",
    "person1.selfIntroduction()\n",
    "\n",
    "person2 = Person('Sato', 25)\n",
    "person3 = Person('Kato', 30)\n",
    "\n",
    "person_list = [person1, person2, person3]\n",
    "for p in person_list:\n",
    "    p.selfIntroduction()"
   ]
  },
  {
   "cell_type": "code",
   "execution_count": 7,
   "metadata": {},
   "outputs": [
    {
     "name": "stdout",
     "output_type": "stream",
     "text": [
      "Yamada\n",
      "24\n",
      "Sato\n",
      "25\n",
      "Kato\n",
      "30\n"
     ]
    }
   ],
   "source": [
    "person4 = {'name':'Yamada', 'age':24}\n",
    "person5 = {'name':'Sato', 'age':25}\n",
    "person6 = {'name':'Kato', 'age':30}\n",
    "person_list2 = [person4, person5, person6]\n",
    "\n",
    "for p in person_list2:\n",
    "    print(p['name'])\n",
    "    print(p['age'])\n",
    "    "
   ]
  },
  {
   "cell_type": "markdown",
   "metadata": {},
   "source": [
    "## クラスメソッド、スタティックメソッド"
   ]
  },
  {
   "cell_type": "markdown",
   "metadata": {},
   "source": [
    "### クラスメソッド  \n",
    "メソッドに「@classmethod」を付与することで、クラスメソッドになります。　　\n",
    "\n",
    "~~~\n",
    "class クラス名:\n",
    "    @classmethod\n",
    "    def メソッド名(cls,引数1,引数2,…)\n",
    "        処理\n",
    "~~~\n",
    "\n",
    "#### クラスメソッドの呼び出し  \n",
    "クラスメソッドは、インスタンスを使用せずに、クラス名を指定するだけで呼び出すことができます。\n",
    "\n",
    "~~~\n",
    "クラス名.クラスメソッド名(引数1に渡す値,引数2に渡す値,…)\n",
    "~~~"
   ]
  },
  {
   "cell_type": "markdown",
   "metadata": {},
   "source": [
    "### スタティックメソッド  \n",
    "メソッドに、「@staticmethod」を付与することで、スタティックメソッドになります。  \n",
    "\n",
    "~~~\n",
    "class クラス名:\n",
    "    @staticmethod\n",
    "    def メソッド名(引数1,引数2,…)\n",
    "        処理\n",
    "~~~\n",
    "\n",
    "#### スタティックメソッドの呼び出し  \n",
    "クラスメソッドと同じく、インスタンスを使用せずに、クラス名を指定するだけで呼び出すことができます。  \n",
    "\n",
    "~~~\n",
    "クラス名.スタティックメソッド名(引数1に渡す値,引数2に渡す値,…)\n",
    "~~~"
   ]
  },
  {
   "cell_type": "markdown",
   "metadata": {},
   "source": [
    "### クラスメソッドとスタティックメソッドの違い\n",
    "<table>\n",
    "    <th>&nbsp;</th><th>クラスメソッド</th><th>スタティックメソッド</th>\n",
    "    <tr>\n",
    "        <th>インスタンス変数にアクセスできるか</th><td>できない</td><td>できない</td>\n",
    "    </tr>\n",
    "    <tr>\n",
    "        <th>クラス変数にアクセスできるか</th><td>できる</td><td>できない<br>（メソッド内で自クラスを宣言すればアクセス可）\n",
    "</td>\n",
    "    </tr>"
   ]
  },
  {
   "cell_type": "code",
   "execution_count": 8,
   "metadata": {},
   "outputs": [
    {
     "data": {
      "text/plain": [
       "108"
      ]
     },
     "execution_count": 8,
     "metadata": {},
     "output_type": "execute_result"
    }
   ],
   "source": [
    "class Tax1:\n",
    "\n",
    "    def __init__(self, rate):\n",
    "        self.rate = rate\n",
    "    def calc_tax(self, price):\n",
    "        return int(price * self.rate)\n",
    "\n",
    "tax1 = Tax1(1.08)\n",
    "tax1.calc_tax(100)"
   ]
  },
  {
   "cell_type": "code",
   "execution_count": 9,
   "metadata": {},
   "outputs": [
    {
     "data": {
      "text/plain": [
       "110"
      ]
     },
     "execution_count": 9,
     "metadata": {},
     "output_type": "execute_result"
    }
   ],
   "source": [
    "class Tax2:\n",
    "    rate = 1.1  # クラス変数\n",
    "    \n",
    "    @classmethod\n",
    "    def calc_tax(cls, price):\n",
    "        return int(price * cls.rate)\n",
    "\n",
    "tax2 = Tax2()\n",
    "tax2.calc_tax(100)"
   ]
  },
  {
   "cell_type": "markdown",
   "metadata": {},
   "source": [
    "## 継承"
   ]
  },
  {
   "cell_type": "markdown",
   "metadata": {},
   "source": [
    "基本となるクラスを元にして、基本となるクラスの属性やメソッドを受け継いだ新しいクラスを作ることを**継承**といいます。  \n",
    "継承元となるクラスの事を**スーパークラス**、継承元を受け継いで作ったクラスの事を**サブクラス**といいます。  \n",
    "スーパークラスとサブクラスは、親子関係に例えることもあり、その場合はスーパークラスが親で、サブクラスが子になります。  \n",
    "\n",
    "スーパークラスは、複数のサブクラスの継承元になることができます。    \n",
    "サブクラスは、複数のスーパークラスを継承元として作成でき、これを**多重継承**といいます。（多重継承については後述）"
   ]
  },
  {
   "cell_type": "markdown",
   "metadata": {},
   "source": [
    "### 継承を利用したクラスの定義  \n",
    "クラス名の後の()にスーパークラス名を指定します。\n",
    "\n",
    "~~~\n",
    "class クラス名(スーパークラス名):\n",
    "    コンストラクタやメソッドの定義\n",
    "~~~"
   ]
  },
  {
   "cell_type": "markdown",
   "metadata": {},
   "source": [
    "### サブクラスのコンストラクタ  \n",
    "サブクラスのコンストラクタでは、スーパークラスのコンストラクタの呼び出しや、サブクラスのみが持つ属性を定義することができます。  \n",
    "スーパークラスのコンストラクタは、super関数を使用することで呼び出すことができます。\n",
    "\n",
    "~~~\n",
    "class クラス名(スーパークラス名): \n",
    "    def __init__(self,引数1,引数2,引数3):\n",
    "        super().__init__(引数1,引数2)\n",
    "        self.サブクラスの属性= 引数3\n",
    "~~~"
   ]
  },
  {
   "cell_type": "markdown",
   "metadata": {},
   "source": [
    "### 継承を利用したメソッドの定義  \n",
    "サブクラスはスーパークラスの属性だけでなく、メソッドも受け継いでいます。  \n",
    "スーパークラスのメソッドをそのまま使用する場合は、サブクラスに定義しなおす必要はありません。  \n",
    "\n",
    "サブクラスにメソッドを定義するのは、以下のような場合です。\n",
    " - サブクラスでスーパークラスのメソッドを再定義する。\n",
    " - スーパークラスのメソッドに、サブクラスで処理を付け足し、拡張する。\n",
    " - サブクラス独自のメソッドを追加する。\n",
    " \n",
    "### オーバーライド  \n",
    "スーパークラスで定義したメソッドを、サブクラスで再定義することを**オーバーライド**といいます。  \n",
    "オーバーライドをする際は、スーパークラスで定義したメソッドと同じメソッド名で定義をします。  \n",
    "\n",
    "### メソッドの拡張  \n",
    "スーパークラスのメソッドに、サブクラスで処理を付け足し、メソッドを拡張することができます。  \n",
    "オーバーライド同様、スーパークラスで定義したメソッドと同じメソッド名で定義をします。  \n",
    "また、super関数を使用して、スーパークラスのメソッドを呼び出す必要があります。"
   ]
  },
  {
   "cell_type": "code",
   "execution_count": 10,
   "metadata": {},
   "outputs": [],
   "source": [
    "class Society(Person): # 人間クラスを継承した社会人クラスの定義\n",
    "    #コンストラクタ。スーパークラスが持つ属性と、サブクラスのみが持つ属性の初期化を行う。\n",
    "    def __init__(self,name,age,company):\n",
    "        super().__init__(name,age) # スーパークラスのコンストラクタの呼び出し\n",
    "        self.company = company     # サブクラスの属性の初期化\n",
    "\n",
    "    # スーパークラスの「自己紹介をする」メソッドを再定義する。\n",
    "    def selfIntroduction(self):\n",
    "        print('私の名前は',self.name,\n",
    "              'です。年齢は',self.age,'歳です。所属会社は',\n",
    "              self.company,'です。よろしくお願いします。')  \n",
    " \n",
    "    # スーパークラスの「挨拶をする」メソッドに処理を付け足す。\n",
    "    def greet(self,greetWord):\n",
    "        super().greet(greetWord)\n",
    "        print('お元気ですか？')\n",
    "\n",
    "    # サブクラス独自のメソッドを追加する。\n",
    "    def answerCompany(self):\n",
    "        return self.company\n",
    "        "
   ]
  },
  {
   "cell_type": "markdown",
   "metadata": {},
   "source": [
    "### サブクラスのメソッドの呼び出し  \n",
    "サブクラスのメソッドは、サブクラスのインスタンスを作成して呼び出すことができます。  \n",
    "\n",
    "~~~\n",
    "変数名 = サブクラス名(引数1に渡す値,引数2に渡す値,…)\n",
    "変数名.サブクラスのメソッド名()\n",
    "~~~"
   ]
  },
  {
   "cell_type": "code",
   "execution_count": 11,
   "metadata": {},
   "outputs": [
    {
     "name": "stdout",
     "output_type": "stream",
     "text": [
      "私の名前は 田中 です。年齢は 22 歳です。所属会社は ●●会社 です。よろしくお願いします。\n",
      "こんにちは\n",
      "お元気ですか？\n",
      "所属会社： ●●会社\n",
      "田中\n",
      "22\n"
     ]
    }
   ],
   "source": [
    "soc1 = Society('田中',22,'●●会社') # サブクラスのインスタンスの作成\n",
    " \n",
    "# サブクラスでオーバーライドしたメソッドの呼び出し。\n",
    "soc1.selfIntroduction()\n",
    " \n",
    "# サブクラスで処理を付け足して拡張したメソッドの呼び出し。\n",
    "soc1.greet('こんにちは')\n",
    " \n",
    "# サブクラスで新しく定義したメソッドの呼び出し。\n",
    "print('所属会社：',soc1.answerCompany())\n",
    "\n",
    "print(soc1.answerName())\n",
    "print(soc1.answerAge())"
   ]
  },
  {
   "cell_type": "markdown",
   "metadata": {},
   "source": [
    "### 多重継承  \n",
    "サブクラスを定義する際、継承元であるスーパークラスを複数指定することを**多重継承**といいます。  \n",
    "\n",
    "~~~\n",
    "class クラス名(スーパークラス名1,スーパークラス名2,…):\n",
    "    コンストラクタやメソッドの定義\n",
    "~~~"
   ]
  }
 ],
 "metadata": {
  "kernelspec": {
   "display_name": "Python 3 (ipykernel)",
   "language": "python",
   "name": "python3"
  },
  "language_info": {
   "codemirror_mode": {
    "name": "ipython",
    "version": 3
   },
   "file_extension": ".py",
   "mimetype": "text/x-python",
   "name": "python",
   "nbconvert_exporter": "python",
   "pygments_lexer": "ipython3",
   "version": "3.8.16"
  },
  "latex_envs": {
   "LaTeX_envs_menu_present": true,
   "bibliofile": "biblio.bib",
   "cite_by": "apalike",
   "current_citInitial": 1,
   "eqLabelWithNumbers": true,
   "eqNumInitial": 1,
   "labels_anchors": false,
   "latex_user_defs": false,
   "report_style_numbering": false,
   "user_envs_cfg": false
  },
  "toc": {
   "colors": {
    "hover_highlight": "#DAA520",
    "running_highlight": "#FF0000",
    "selected_highlight": "#FFD700"
   },
   "moveMenuLeft": true,
   "nav_menu": {
    "height": "372px",
    "width": "252px"
   },
   "navigate_menu": true,
   "number_sections": true,
   "sideBar": true,
   "threshold": 4,
   "toc_cell": false,
   "toc_section_display": "block",
   "toc_window_display": false
  }
 },
 "nbformat": 4,
 "nbformat_minor": 4
}

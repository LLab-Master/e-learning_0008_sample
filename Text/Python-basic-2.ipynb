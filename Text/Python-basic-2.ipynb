{
 "cells": [
  {
   "cell_type": "markdown",
   "metadata": {},
   "source": [
    "# Pythonの基本"
   ]
  },
  {
   "cell_type": "markdown",
   "metadata": {},
   "source": [
    "## Python開発環境"
   ]
  },
  {
   "cell_type": "markdown",
   "metadata": {},
   "source": [
    "### Pythonディストリビューション\n",
    "\n",
    "単体のPythonに対し、パッケージ、ツールなどを組み込んだディストリビューションがいくつもある。\n",
    "\n",
    "- Anaconda\n",
    "  - Continuum Analytics 社によって提供されている、Pythonディストリビューション。\n",
    "  - Python 本体に加え、科学技術、数学、エンジニアリング、データ分析など、よく利用される Python パッケージを一括でインストール可能。\n",
    "  - 面倒なセットアップ作業が効率よく行えるため、Python 開発者の間で広く利用されている。\n",
    "  - 「Spyder」や「Jupyter Notebook」などのツール類も同梱されている。\n",
    "  - 商用利用に制限あり。\n",
    "\n",
    "![anaconda_navigator](fig/anaconda_navigator.png)\n",
    "\n",
    "- Miniconda\n",
    "  - Anaconda から必要最小限のパッケージだけを取り出したディストリビューション。\n",
    "  - Anaconda のパッケージマネージャ(conda コマンド)が使用可能。\n",
    "  - 自分が必要とするライブラリ類は conda コマンドでインストールが必要。\n",
    "  - パッケージのダウンロード先を制限すれば、無料で商用利用可能。\n",
    "\n",
    "- WinPython\n",
    "  - Windows向けPythonパッケージ\n",
    "  - 主要なライブラリ、ツールなとが一括でインストール可能\n",
    "  - ポータブル化されていて、USBメモリなどに入れて持ち運ぶことができる。\n",
    "  - 商用利用可能。\n",
    "\n"
   ]
  },
  {
   "cell_type": "markdown",
   "metadata": {},
   "source": [
    "### IPython\n",
    "  - Pythonを対話的に実行するシェルのこと。\n",
    "  - ipython コマンドで起動\n",
    "  - Python標準シェルに比べ、コードハイライト機能や、コード補完機能などが追加されている。\n",
    "  - Anacondaに同梱。Navigatorから起動できる。\n",
    "  - 主な拡張機能\n",
    "    - 「TAB」キーでコード補完ができる。\n",
    "    - 「↑」「↓」履歴を辿れる。\n",
    "    - 変数名に?をつけると、変数の内容が表示。\n",
    "    - ! で始めるとOSコマンドを実行できる。\n",
    "    - マジックコマンドがある。\n",
    "      - %hist で履歴の表示\n",
    "      - %timeit で実行時間の計測\n",
    "\n",
    "![Ipyton](fig/Ipython.png)\n"
   ]
  },
  {
   "cell_type": "markdown",
   "metadata": {},
   "source": [
    "### Spyder\n",
    "\n",
    "- 無償で利用できるPython用IDEの１つ。\n",
    "- Anacondaに同梱。\n",
    "- プログラムエディタ、 IPythonシェルなど豊富な機能を持っています。\n",
    "\n",
    "![Spyder](fig/Spyder.png)\n"
   ]
  },
  {
   "cell_type": "markdown",
   "metadata": {},
   "source": [
    "### Jupyter Notebook/Jupyter Lab\n",
    "\n",
    "ブラウザを利用して、Pythonのプログラムの作成と実行、実行結果の表示、メモの記入をノートブックと呼ばれる形式で記録できるツール。\n",
    "\n",
    "- 主な機能\n",
    "  - Pythonコードと実行結果\n",
    "  - Markdown形式によるテキスト記入\n",
    "  - HTMLなど他形式への変換\n",
    "- Anacondaに同梱されている。\n",
    "- Anaconda Navigatorまたは、コマンドラインから起動できる。\n",
    "  - 起動すると、ブラウザとサーバプログラム(コマンドプロンプト)が起動する。\n",
    "- Jupyter Lab は Jupyter Notebook の高機能版\n"
   ]
  },
  {
   "cell_type": "markdown",
   "metadata": {},
   "source": [
    "### Jupyter Notebookの使い方\n",
    "\n",
    "- 新規Notebook作成\n",
    "  - 「New」→「Python3」を選択\n",
    "\n",
    "![Jupyter_notebook1](fig/Jupyter_notebook1.png)\n",
    "\n",
    "- Notebook編集\n",
    "  - セルと呼ばれるエリアにPythonコードを入力する。\n",
    "  - Ctrl + Enterで実行。実行結果はセルの下に表示されます。 \n",
    "  - セルを種類変更は上部のメニューで「code」から「markdown」に変更するとMarkdown形式でメモが記述できる。\n",
    "  - セルの追加削除は「+」「−」ボタン\n",
    "\n",
    "![Jupyter_notebook2](fig/Jupyter_notebook2.png)\n",
    "\n",
    "\n"
   ]
  },
  {
   "cell_type": "markdown",
   "metadata": {},
   "source": [
    "## まずは動かしてみる"
   ]
  },
  {
   "cell_type": "markdown",
   "metadata": {},
   "source": [
    "### 画面に表示する\n",
    "\n",
    "- 画面に文字列を表示するプログラムです。\n"
   ]
  },
  {
   "cell_type": "code",
   "execution_count": 1,
   "metadata": {},
   "outputs": [
    {
     "name": "stdout",
     "output_type": "stream",
     "text": [
      "Hello Python\n"
     ]
    }
   ],
   "source": [
    "print(\"Hello Python\")"
   ]
  },
  {
   "cell_type": "markdown",
   "metadata": {},
   "source": [
    "- ちなみに、同様のことをＪａｖａで書いてみると\n",
    "\n",
    "```Java\n",
    "Class Hello{\n",
    "   public static void main(String[] args){\n",
    "       System.out.println(“Hello Python”);\n",
    "   }\n",
    "}\n",
    "```\n"
   ]
  },
  {
   "cell_type": "markdown",
   "metadata": {},
   "source": [
    "\n",
    "- 計算させて見ます"
   ]
  },
  {
   "cell_type": "code",
   "execution_count": 2,
   "metadata": {},
   "outputs": [
    {
     "name": "stdout",
     "output_type": "stream",
     "text": [
      "14\n"
     ]
    }
   ],
   "source": [
    "print(10 + 4)"
   ]
  },
  {
   "cell_type": "markdown",
   "metadata": {},
   "source": [
    "- Pythonで使える算術演算子\n",
    "\n",
    "|演算子 |意味 |例|\n",
    "|:------|:----|:--|\n",
    "|＋| 加算| 3+5 = 8|\n",
    "|−| 減算| 10 – 4 = 6|\n",
    "|*| 乗算| 10 * 4 = 40|\n",
    "|/| 除算| 10 / 4 = 2.5|\n",
    "|//| 除算(小数点以下切捨）| 10 // 4 = 2|\n",
    "|%| 剰余| 10 % 3 = 1|\n",
    "|**| 累乗| 10 ** 3 = 1000 |\n"
   ]
  },
  {
   "cell_type": "markdown",
   "metadata": {},
   "source": [
    "- 変数\n",
    "  - 変数を使用する時は、データ型は意識する必要はありません。Pythonは変数のデータ型を明示的に指定しない「動的型付言語」になります。\n"
   ]
  },
  {
   "cell_type": "code",
   "execution_count": 3,
   "metadata": {},
   "outputs": [
    {
     "name": "stdout",
     "output_type": "stream",
     "text": [
      "30\n"
     ]
    }
   ],
   "source": [
    "num1 = 10\n",
    "num2 = 20\n",
    "num3 = num1 + num2\n",
    "print( num3 )"
   ]
  },
  {
   "cell_type": "markdown",
   "metadata": {},
   "source": [
    "- Pythonの基本的なデータ型\n",
    "\n",
    "|データ型|意味|例|\n",
    "|:---|:---|:---|\n",
    "|int|整数|-2,0,10|\n",
    "|float|浮動小数点数|-1.25, 0.0 , 1.2E2|\n",
    "|str|文字列|‘apple’,’orange’|\n"
   ]
  },
  {
   "cell_type": "markdown",
   "metadata": {},
   "source": [
    "- キーボード入力を受け付ける\n",
    "  - input関数を使えば簡単に実現できます。\n"
   ]
  },
  {
   "cell_type": "code",
   "execution_count": 4,
   "metadata": {},
   "outputs": [
    {
     "name": "stdin",
     "output_type": "stream",
     "text": [
      "input your name Taro\n"
     ]
    },
    {
     "name": "stdout",
     "output_type": "stream",
     "text": [
      "Hello Taro\n"
     ]
    }
   ],
   "source": [
    "your_name = input('input your name')\n",
    "\n",
    "print('Hello ' + your_name)\n"
   ]
  },
  {
   "cell_type": "markdown",
   "metadata": {},
   "source": [
    "### コーディングスタイル\n",
    "\n",
    "- Python には PEP8 と呼ばれるコーディングの規約があります。PEP8に従わなくてもエラーではありませんが、読みやすいプログラムを書くために、守ることが推奨されています。\n",
    "- PEP8 で特に大事な内容\n",
    "  - インデントはスペース4つ。タブ文字は使わない。\n",
    "  - 一行の長さは 78 文字以内。長い行は改行とインデントを使って見やすく分割する。\n",
    "  - 演算子の前後とカンマの後は1文字分だけスペースを入れる。それ以外に不要なスペースは入れない。\n",
    "  - コメントは独立した行にする。\n",
    "  - docstrings(関数、クラスの説明文)をつける。\n",
    "  - この規約を遵守するよりも、見やすさを重視する。\n"
   ]
  }
 ],
 "metadata": {
  "kernelspec": {
   "display_name": "Python 3 (ipykernel)",
   "language": "python",
   "name": "python3"
  },
  "language_info": {
   "codemirror_mode": {
    "name": "ipython",
    "version": 3
   },
   "file_extension": ".py",
   "mimetype": "text/x-python",
   "name": "python",
   "nbconvert_exporter": "python",
   "pygments_lexer": "ipython3",
   "version": "3.8.16"
  }
 },
 "nbformat": 4,
 "nbformat_minor": 4
}

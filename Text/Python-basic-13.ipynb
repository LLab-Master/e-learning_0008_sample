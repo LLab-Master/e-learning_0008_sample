{
 "cells": [
  {
   "cell_type": "markdown",
   "id": "forbidden-duration",
   "metadata": {},
   "source": [
    "# 文字列\n",
    "\n",
    "文字列はリストの特別な形式と考えることもできる。リストが持つメソッドのほとんどは文字列でも使える。\n",
    "\n",
    "一方、文字列固有のメソッドも多数ある。\n",
    "\n",
    "## 文字列に対してよく使われるメソッド、演算子\n",
    "\n",
    "- 検索系\n",
    "  - find()\n",
    "  - startswith() / endswith() / in\n",
    "  - replace()\n",
    "  - count()\n",
    "\n",
    "\n",
    "- 変換系\n",
    "  - upper() / lower()\n",
    "  - strip() / lstrip() / rstrip()\n",
    "  - split() / join()\n",
    "\n",
    "\n",
    "- その他\n",
    "  - fomat()\n"
   ]
  },
  {
   "cell_type": "code",
   "execution_count": 1,
   "id": "premium-nelson",
   "metadata": {},
   "outputs": [
    {
     "name": "stdout",
     "output_type": "stream",
     "text": [
      "1\n"
     ]
    }
   ],
   "source": [
    "# 検索\n",
    "str1 = 'Hello world'\n",
    "# 最初に見つかったインデクスを返す\n",
    "print(str1.find('el'))"
   ]
  },
  {
   "cell_type": "code",
   "execution_count": 2,
   "id": "victorian-niagara",
   "metadata": {},
   "outputs": [
    {
     "name": "stdout",
     "output_type": "stream",
     "text": [
      "7\n"
     ]
    }
   ],
   "source": [
    "# 第2引数を指定すると検索開始位置を変えられる。\n",
    "print(str1.find('o', 5))   # 2番目の 'o' を探す"
   ]
  },
  {
   "cell_type": "code",
   "execution_count": 3,
   "id": "superior-status",
   "metadata": {},
   "outputs": [
    {
     "name": "stdout",
     "output_type": "stream",
     "text": [
      "True\n",
      "True\n",
      "True\n"
     ]
    }
   ],
   "source": [
    "# 最初、最後の文字列\n",
    "str1 = 'Hello world'\n",
    "\n",
    "print(str1.startswith('He'))\n",
    "print(str1.endswith('d'))\n",
    "\n",
    "# どこかに入っていればよい\n",
    "print('world' in str1)"
   ]
  },
  {
   "cell_type": "code",
   "execution_count": 4,
   "id": "quiet-kenya",
   "metadata": {},
   "outputs": [
    {
     "name": "stdout",
     "output_type": "stream",
     "text": [
      "Thank you world\n",
      "Hello world\n"
     ]
    }
   ],
   "source": [
    "# 置換\n",
    "str1 = 'Hello world'\n",
    "str2 = str1.replace('Hello', 'Thank you')\n",
    "\n",
    "print(str2)\n",
    "print(str1) # str1 は変わらない"
   ]
  },
  {
   "cell_type": "code",
   "execution_count": 5,
   "id": "automatic-destiny",
   "metadata": {},
   "outputs": [
    {
     "name": "stdout",
     "output_type": "stream",
     "text": [
      "2\n"
     ]
    }
   ],
   "source": [
    "# 見つかった個数を返す\n",
    "str1 = 'Hello world'\n",
    "\n",
    "print(str1.count('o'))"
   ]
  },
  {
   "cell_type": "code",
   "execution_count": 6,
   "id": "transparent-linux",
   "metadata": {},
   "outputs": [
    {
     "name": "stdout",
     "output_type": "stream",
     "text": [
      "HELLO\n",
      "hello\n"
     ]
    }
   ],
   "source": [
    "# 大文字、小文字変換\n",
    "str1 = 'hello'\n",
    "print(str1.upper())\n",
    "\n",
    "str2 = 'WORLD'\n",
    "print(str1.lower())"
   ]
  },
  {
   "cell_type": "code",
   "execution_count": 7,
   "id": "distant-recipe",
   "metadata": {},
   "outputs": [
    {
     "name": "stdout",
     "output_type": "stream",
     "text": [
      "--\tHello world\n",
      "--\n",
      "**********************\n",
      "--Hello world--\n",
      "**********************\n",
      "--Hello world\n",
      "--\n",
      "**********************\n",
      "--\tHello world--\n",
      "**********************\n",
      "==\tHello world\n",
      "==\n"
     ]
    }
   ],
   "source": [
    "# 空白文字(改行、全角スペース、タブなど）を取り除く\n",
    "#  (引数を指定すれば、その文字列を取り除く)\n",
    "str1 = '\\tHello world\\n'\n",
    "str2 = str1.strip()\n",
    "str3 = str1.lstrip()\n",
    "str4 = str1.rstrip()\n",
    "\n",
    "for s in [str1, str2, str3, str4]:\n",
    "    print('--' + s + '--')\n",
    "    print('**********************')\n",
    "print('==' + str1 + '==') # str1 は変わらない"
   ]
  },
  {
   "cell_type": "code",
   "execution_count": 8,
   "id": "standard-beach",
   "metadata": {},
   "outputs": [
    {
     "name": "stdout",
     "output_type": "stream",
     "text": [
      "['I', 'have', 'a', 'pen']\n"
     ]
    }
   ],
   "source": [
    "# 文字列 <=> リスト\n",
    "str1 = 'I have a pen'\n",
    "list1 = str1.split()  # 引数を指定すれば、その文字列で分割\n",
    "print(list1)"
   ]
  },
  {
   "cell_type": "code",
   "execution_count": 9,
   "id": "indonesian-python",
   "metadata": {},
   "outputs": [
    {
     "name": "stdout",
     "output_type": "stream",
     "text": [
      "['睦月', '如月', '弥生']\n"
     ]
    }
   ],
   "source": [
    "# str1 = ['睦月', '如月', '弥生']\n",
    "str1 = '睦月 如月 弥生'\n",
    "list1 = str1.split()\n",
    "print(list1)"
   ]
  },
  {
   "cell_type": "code",
   "execution_count": 10,
   "id": "mental-conversation",
   "metadata": {},
   "outputs": [
    {
     "name": "stdout",
     "output_type": "stream",
     "text": [
      "睦月_如月_弥生\n"
     ]
    }
   ],
   "source": [
    "str2 = '_'.join(list1)\n",
    "print(str2)"
   ]
  },
  {
   "cell_type": "code",
   "execution_count": 11,
   "id": "fixed-meaning",
   "metadata": {},
   "outputs": [
    {
     "name": "stdout",
     "output_type": "stream",
     "text": [
      "Taro is 18 years old\n",
      "Taro is 18 years old\n",
      "Taro       is 0018 years old\n",
      "Taro       is 0018 years old\n"
     ]
    }
   ],
   "source": [
    "# format\n",
    "name = 'Taro'\n",
    "age = 18\n",
    "\n",
    "print('{} is {} years old'.format(name, age))\n",
    "# {n} で引数の順序指定可\n",
    "print('{1} is {0} years old'.format(age, name))\n",
    "# 複雑な書式設定も可\n",
    "print('{1:10s} is {0:04} years old'.format(age, name))\n",
    "# Python ver 3.6 以降\n",
    "print(f'{name:10s} is {age:04} years old')"
   ]
  },
  {
   "cell_type": "markdown",
   "id": "urban-analysis",
   "metadata": {},
   "source": [
    "## 不変値としての文字列\n",
    "\n",
    "文字列とリストの違いは、文字列が不変値(immutable)であること。"
   ]
  },
  {
   "cell_type": "code",
   "execution_count": 12,
   "id": "tracked-lease",
   "metadata": {},
   "outputs": [
    {
     "name": "stdout",
     "output_type": "stream",
     "text": [
      "o\n",
      "o\n"
     ]
    }
   ],
   "source": [
    "# リストも文字列も、[]で要素を参照できる。\n",
    "\n",
    "list1 = ['h', 'e', 'l', 'l', 'o']\n",
    "str1 = 'hello'\n",
    "\n",
    "print(list1[-1])\n",
    "print(str1[-1])"
   ]
  },
  {
   "cell_type": "code",
   "execution_count": 13,
   "id": "conventional-norway",
   "metadata": {},
   "outputs": [
    {
     "name": "stdout",
     "output_type": "stream",
     "text": [
      "['H', 'e', 'l', 'l', 'o']\n"
     ]
    }
   ],
   "source": [
    "# リストは要素を直接更新できる。\n",
    "list1[0] = 'H'\n",
    "print(list1)"
   ]
  },
  {
   "cell_type": "markdown",
   "id": "northern-cartridge",
   "metadata": {},
   "source": [
    " 同じことを文字列で行うと、エラー\n"
   ]
  },
  {
   "cell_type": "markdown",
   "id": "loose-injection",
   "metadata": {},
   "source": [
    "\n",
    "```python\n",
    "str1[0] = 'H'\n",
    "print(str1)\n",
    "```"
   ]
  },
  {
   "cell_type": "code",
   "execution_count": 14,
   "id": "fixed-wagon",
   "metadata": {},
   "outputs": [
    {
     "name": "stdout",
     "output_type": "stream",
     "text": [
      "140542801970752\n",
      "['H', 'e', 'l', 'l', 'o', 'a']\n",
      "140542801970752\n"
     ]
    }
   ],
   "source": [
    "# リストへの要素追加\n",
    "print(id(list1))    # id()はオブジェクトのID(アドレスのようなもの)を返す\n",
    "list1.append('a')\n",
    "print(list1)\n",
    "print(id(list1))    # 追加前とIDは変わらない"
   ]
  },
  {
   "cell_type": "code",
   "execution_count": 15,
   "id": "attractive-license",
   "metadata": {},
   "outputs": [
    {
     "name": "stdout",
     "output_type": "stream",
     "text": [
      "140542801988592\n",
      "helloa\n",
      "140542802042608\n"
     ]
    }
   ],
   "source": [
    "# 文字列への追加\n",
    "print(id(str1))\n",
    "# str1.append('a')   # Error: 文字列クラスに append()メソッドは無い。\n",
    "str1 = str1 + 'a'\n",
    "print(str1)\n",
    "print(id(str1))      # IDは変わる。(何回も追加すると、変わらなくなることもある)"
   ]
  },
  {
   "cell_type": "code",
   "execution_count": 16,
   "id": "variable-sunset",
   "metadata": {},
   "outputs": [
    {
     "name": "stdout",
     "output_type": "stream",
     "text": [
      "['H', 'e', 'l', 'l', 'o', 'a', 'bb']\n"
     ]
    }
   ],
   "source": [
    "# 補足：リスト同士も加算は可能\n",
    "list1 = list1 + ['bb']\n",
    "print(list1)"
   ]
  },
  {
   "cell_type": "markdown",
   "id": "classical-thompson",
   "metadata": {},
   "source": [
    "## is 演算子"
   ]
  },
  {
   "cell_type": "code",
   "execution_count": 17,
   "id": "nervous-emperor",
   "metadata": {},
   "outputs": [
    {
     "name": "stdout",
     "output_type": "stream",
     "text": [
      "b= [4, 2, 3]\n",
      "a= [4, 2, 3]\n",
      "c= [4, 2, 3]\n",
      "a= [4, 2, 3]\n",
      "a == b\n",
      "id(a)= 140542801983744\n",
      "id(b)= 140542801983744\n",
      "id(c)= 140542801965952\n"
     ]
    }
   ],
   "source": [
    "a = [1, 2, 3]\n",
    "b = a\n",
    "c = a[:]   # c = a.copy() でもよい\n",
    "\n",
    "b[0] = 4\n",
    "print('b=', b)\n",
    "print('a=', a)\n",
    "c[0] = 4\n",
    "print('c=', c)\n",
    "print('a=', a)\n",
    "\n",
    "if a is b:\n",
    "    print('a == b')\n",
    "\n",
    "if a is c:\n",
    "    print('a == c')\n",
    "    \n",
    "if b is c:\n",
    "    print('b == c')\n",
    "\n",
    "print('id(a)=', id(a))\n",
    "print('id(b)=', id(b))\n",
    "print('id(c)=', id(c))\n",
    "    "
   ]
  },
  {
   "cell_type": "code",
   "execution_count": 18,
   "id": "billion-construction",
   "metadata": {},
   "outputs": [
    {
     "data": {
      "text/plain": [
       "True"
      ]
     },
     "execution_count": 18,
     "metadata": {},
     "output_type": "execute_result"
    }
   ],
   "source": [
    "a is None\n",
    "a is not None\n",
    "a is True\n",
    "a is not False\n"
   ]
  }
 ],
 "metadata": {
  "kernelspec": {
   "display_name": "Python 3 (ipykernel)",
   "language": "python",
   "name": "python3"
  },
  "language_info": {
   "codemirror_mode": {
    "name": "ipython",
    "version": 3
   },
   "file_extension": ".py",
   "mimetype": "text/x-python",
   "name": "python",
   "nbconvert_exporter": "python",
   "pygments_lexer": "ipython3",
   "version": "3.8.16"
  }
 },
 "nbformat": 4,
 "nbformat_minor": 5
}

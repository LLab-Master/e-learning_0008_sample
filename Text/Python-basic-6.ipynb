{
 "cells": [
  {
   "source": [
    "# 関数"
   ],
   "cell_type": "markdown",
   "metadata": {}
  },
  {
   "cell_type": "markdown",
   "metadata": {},
   "source": [
    "## 関数の作成"
   ]
  },
  {
   "cell_type": "markdown",
   "metadata": {},
   "source": [
    "関数とは、<u> **プログラムの複数の処理を一つにまとめたもの** </u>のことです。  \n",
    "関数を使用すると、プログラムを機能ごとに分割し、全体の動作を明確にすることができます。  \n",
    "\n",
    "### 関数の定義の仕方  \n",
    "関数は、def文を使用して以下のように定義します。\n",
    "\n",
    "~~~\n",
    "def 関数名(引数1,引数2):\n",
    "    処理１\n",
    "    ・\n",
    "    ・\n",
    "    return 戻り値\n",
    "~~~\n",
    "\n",
    "### 引数  \n",
    "引数とは、<u>**関数の処理の中で使用できるよう渡す値** </u>のことです。  \n",
    "省略も可能です。\n",
    "\n",
    "### 戻り値  \n",
    "戻り値とは、<u>**関数を処理した結果として返す値** </u>のことです。  \n",
    "引数同様、省略も可能です。\n",
    "\n",
    "### docstrings\n",
    "- 関数やクラス定義の最初に \"\"\" (引用符3個)でくくって説明を書くと、自動的に docstrings として扱われます。\n",
    "- docstrings を書いて置けば、help コマンドやエディターの機能で、自分の作った関数の説明が表示されるようになります。\n"
   ]
  },
  {
   "source": [],
   "cell_type": "markdown",
   "metadata": {}
  },
  {
   "cell_type": "markdown",
   "metadata": {},
   "source": [
    "## 関数の呼び出し  \n",
    "定義した関数をプログラム内で使用することを、「関数を呼び出す」と言います。  \n",
    "同じような処理をプログラム内で複数実行したい場合は、まず関数を定義し、その関数を呼び出すことで簡潔なプログラムを作成することができます。\n",
    "\n",
    "~~~\n",
    "変数名(省略可能) = 関数名(引数1,引数2・・・)\n",
    "~~~\n",
    "\n",
    "引数を持たない関数を呼び出す場合は、引数は省略可能です。  \n",
    "関数が戻り値を返す場合は、変数を使用して、関数の戻り値を受け取ることができます。  \n",
    "**※このことを、「戻る」や「返す」と言います。**  \n",
    "関数が戻り値を返さない場合は、変数名は省略可能です。"
   ]
  },
  {
   "cell_type": "code",
   "execution_count": 1,
   "metadata": {},
   "outputs": [
    {
     "output_type": "stream",
     "name": "stdout",
     "text": [
      "Hello,Python!\n"
     ]
    }
   ],
   "source": [
    "# hello関数の定義\n",
    "def hello():\n",
    "    print('Hello,Python!')\n",
    "\n",
    "# hello関数の呼び出し\n",
    "hello()"
   ]
  },
  {
   "cell_type": "markdown",
   "metadata": {},
   "source": [
    "## 様々な関数の定義と呼び出し方  \n",
    "関数は、大きく分けて次の四種類に分けられます。  \n",
    "\n",
    "- 引数のあるもの\n",
    "- 引数のないもの\n",
    "- 戻り値のあるもの\n",
    "- 戻り値のないもの\n",
    "\n",
    "それぞれ、関数の定義の仕方、関数の呼び出し方が変わってきます。  "
   ]
  },
  {
   "cell_type": "code",
   "execution_count": 2,
   "metadata": {},
   "outputs": [
    {
     "output_type": "stream",
     "name": "stdout",
     "text": [
      "Hello,Python!\n"
     ]
    }
   ],
   "source": [
    "# 引数のない関数の定義\n",
    "def hello():\n",
    "    print('Hello,Python!')\n",
    "\n",
    "# 引数のない関数の呼び出し\n",
    "hello()"
   ]
  },
  {
   "cell_type": "code",
   "execution_count": 3,
   "metadata": {},
   "outputs": [
    {
     "output_type": "stream",
     "name": "stdout",
     "text": [
      "Hello,Python入門!\n"
     ]
    }
   ],
   "source": [
    "# 引数のある関数の定義\n",
    "def hello(msg): # 引数「msg」を受け取ります。\n",
    "    print('Hello,' + msg + '!') # 受け取ったmsgを表示します。\n",
    "\n",
    "# 引数のある関数の呼び出し\n",
    "hello('Python入門')"
   ]
  },
  {
   "cell_type": "code",
   "execution_count": 4,
   "metadata": {},
   "outputs": [
    {
     "output_type": "stream",
     "name": "stdout",
     "text": [
      "21\n"
     ]
    }
   ],
   "source": [
    "# 戻り値のある関数の定義\n",
    "def addNum(num1,num2):\n",
    "    num3 = num1 + num2\n",
    "    return num3\n",
    "\n",
    "# 戻り値のある関数の呼び出し\n",
    "print(addNum(1,20))"
   ]
  },
  {
   "cell_type": "code",
   "execution_count": 5,
   "metadata": {},
   "outputs": [
    {
     "output_type": "stream",
     "name": "stdout",
     "text": [
      "80\n"
     ]
    }
   ],
   "source": [
    "# 戻り値のない関数の定義\n",
    "def addNumPrint(num1,num2):\n",
    "    print(num1 * num2)\n",
    "\n",
    "# 戻り値のない関数の呼び出し\n",
    "addNumPrint(2,40);"
   ]
  },
  {
   "cell_type": "code",
   "execution_count": 6,
   "metadata": {},
   "outputs": [
    {
     "output_type": "stream",
     "name": "stdout",
     "text": [
      "<class 'int'>\n<class 'str'>\n"
     ]
    }
   ],
   "source": [
    "# 戻り値のある関数の定義\n",
    "def addNum(num1,num2):\n",
    "    num3 = num1 + num2\n",
    "    return num3\n",
    "\n",
    "# 戻り値のある関数の呼び出し\n",
    "print(type(addNum(1, 2)))\n",
    "print(type(addNum('1', '2')))"
   ]
  },
  {
   "source": [
    "## スコープ\n",
    "関数の中で定義された変数(引数を含む)をローカル変数、関数の外で定義された変数をグローバル変数といいます。\n",
    "\n",
    "またローカル変数やグローバル変数の有効範囲(関数の内外から見えるか見えないか)をスコープと呼びます。\n",
    "\n",
    "Pythonでのスコープのルールは\n",
    "- ある関数のローカル変数はその関数の外からは見えない\n",
    "- グローバル変数は関数の中から見える、ただし\n",
    "  - 関数内でその変数を書き換えたら、その時点でローカル変数に変わる(変わった値は関数を抜けたらなくなる)\n",
    "  - 関数内で global 宣言をすれば、グローバル変数のまま書き換えることができる(関数を抜けても変わったまま)\n",
    "\n",
    "特別の理由が無い限り、関数との値のやり取りにグローバル変数を使うことは、よくないコーディングスタイルだとされています。"
   ],
   "cell_type": "markdown",
   "metadata": {}
  },
  {
   "cell_type": "code",
   "execution_count": 19,
   "metadata": {},
   "outputs": [
    {
     "output_type": "stream",
     "name": "stdout",
     "text": [
      "1\n1\n2\n1\n3\n3\n"
     ]
    }
   ],
   "source": [
    "gval = 1\n",
    "\n",
    "def use_global1():\n",
    "    print(gval)\n",
    "\n",
    "def use_global2():\n",
    "    gval = 2       # gval はローカル変数に変わる\n",
    "    print(gval)\n",
    "\n",
    "def use_global3():\n",
    "    global gval    # gval はグローバル変数のまま使われる\n",
    "    gval = 3\n",
    "    print(gval)\n",
    "\n",
    "use_global1()\n",
    "print(gval)     # gval は変わっていない\n",
    "use_global2()\n",
    "print(gval)     # gval は変わっていない\n",
    "use_global3()\n",
    "print(gval)     # gval は変わった"
   ]
  },
  {
   "source": [
    "## 引数のデフォルト値\n",
    "関数を定義する際に、引数のデフォルト値を設定しておくことができます。\n",
    "デフォルト値を持つ引数は、関数呼び出し時に省略することができます。\n",
    "\n",
    "デフォルト値付きの引数は、デフォルト値なしの引数より後に定義しなくてはいけません。"
   ],
   "cell_type": "markdown",
   "metadata": {}
  },
  {
   "cell_type": "code",
   "execution_count": 4,
   "metadata": {},
   "outputs": [
    {
     "output_type": "stream",
     "name": "stdout",
     "text": [
      "11\n"
     ]
    }
   ],
   "source": [
    "# 引数 b がデフォルト値付き。デフォルト値の無い a より後に定義する。\n",
    "def func1(a, b=1):\n",
    "    return a + b\n",
    "\n",
    "# 引数 b は省略することができる\n",
    "print(func1(10))\n"
   ]
  },
  {
   "source": [
    "## キーワード引数\n",
    "\n",
    "関数を呼び出す際、引数は定義された順番に並べますが、それ以外に引数名を明示的に指定することもできます。\n",
    "\n",
    "順序で指定された引数を位置引数、引数名で指定された引数を **キーワード引数** と呼びます。\n",
    "\n",
    "位置引数とキーワード引数を同時に使用することもできますが、その場合は位置引数をキーワード引数よりも\n",
    "先に書かなくてはいけません。\n"
   ],
   "cell_type": "markdown",
   "metadata": {}
  },
  {
   "cell_type": "code",
   "execution_count": 6,
   "metadata": {},
   "outputs": [
    {
     "output_type": "stream",
     "name": "stdout",
     "text": [
      "6\n13\n"
     ]
    }
   ],
   "source": [
    "def func2(a, b, c):\n",
    "    return a + b + c\n",
    "\n",
    "# キーワード引数は任意の順序で書けます\n",
    "print(func2(c=2, a=1, b=3))\n",
    "\n",
    "# キーワード引数は、位置引数の後\n",
    "print(func2(10, c=2, b=1))\n"
   ]
  },
  {
   "cell_type": "markdown",
   "metadata": {},
   "source": [
    "## 可変長引数"
   ]
  },
  {
   "cell_type": "markdown",
   "metadata": {},
   "source": [
    "可変長引数とは、任意の数の引数のことを指します。  \n",
    "関数での可変長引数の指定の仕方は、以下の二種類があります。  \n",
    "\n",
    "1. 「＊args」を使用する。  \n",
    "「＊」を頭につけた引数を使用すると、関数を呼び出す際の引数が全て「args」に集約され、「タプル型」として扱われます。\n",
    "~~~\n",
    "def 関数名(*args):\n",
    "    処理\n",
    "    ・\n",
    "    ・\n",
    "    ・\n",
    "~~~\n",
    "\n",
    "2. 「＊＊kargs」を使用する。  \n",
    "「＊＊」を頭につけた引数を使用すると、関数を呼び出す際の引数が全て「kargs」に集約され、「辞書型」として扱われます。\n",
    "\n",
    "~~~\n",
    "def 関数名(**kargs):\n",
    "    処理\n",
    "    ・\n",
    "    ・\n",
    "    ・\n",
    "~~~\n",
    "\n",
    "「＊」または「＊＊」の後は、任意の名前がつけられますが、慣習的に「args」、「kargs」を用いることが多いです。"
   ]
  },
  {
   "cell_type": "code",
   "execution_count": 8,
   "metadata": {},
   "outputs": [
    {
     "output_type": "stream",
     "name": "stdout",
     "text": [
      "(1, 2, 3, 4, 5, 6, 7, 8)\n36\n"
     ]
    }
   ],
   "source": [
    "# 可変長引数(タプル型)\n",
    "def addNum(*args):\n",
    "    print(args)\n",
    "    sum = 0\n",
    "    for num in args:\n",
    "        sum = sum + num\n",
    "    return sum\n",
    "\n",
    "print(addNum(1,2,3,4,5,6,7,8))"
   ]
  },
  {
   "cell_type": "code",
   "execution_count": 10,
   "metadata": {},
   "outputs": [
    {
     "output_type": "stream",
     "name": "stdout",
     "text": [
      "{'Python': 1, 'Java': 2, 'Ruby': 3}\n('Python', 1)\n('Java', 2)\n('Ruby', 3)\n"
     ]
    }
   ],
   "source": [
    "# 可変長引数(辞書型)\n",
    "def addNum2(**kargs):\n",
    "    print(kargs)\n",
    "    for val in kargs.items():\n",
    "        print(val)\n",
    "\n",
    "addNum2(Python=1,Java=2,Ruby=3) #キーワード引数"
   ]
  },
  {
   "cell_type": "markdown",
   "metadata": {},
   "source": [
    "## デコレータ"
   ]
  },
  {
   "cell_type": "markdown",
   "metadata": {},
   "source": [
    "関数を修飾して新たな関数を作成することを<u>**デコレータ**</u>と言います。  \n",
    "既存の変数を変更することなく、処理の追加や変更を行うことができます。  \n",
    "処理の追加や変更を行いたい関数の前に、「@デコレータ名」をつけることによって使用できます。\n",
    "\n",
    "~~~\n",
    "@デコレータ名\n",
    "def 変数名():\n",
    "    処理\n",
    "    ・\n",
    "    ・\n",
    "    ・\n",
    "~~~\n",
    "\n",
    "デコレータは、引数として処理を追加したい関数を引数として渡す必要があります。  \n",
    "そして、戻り値として処理を追加した関数を返す必要があります。"
   ]
  },
  {
   "cell_type": "code",
   "execution_count": 11,
   "metadata": {},
   "outputs": [
    {
     "output_type": "stream",
     "name": "stdout",
     "text": [
      "start\nメイン処理の実行 10\nend\n"
     ]
    }
   ],
   "source": [
    "# デコレータ関数の定義\n",
    "def decolater_func(arg_func): # 引数には、処理を追加したい関数が格納されている。\n",
    "    def add_func(*args):\n",
    "        print('start')\n",
    "        arg_func(*args) # 引数として渡された関数を実行\n",
    "        print(\"end\") # 追加の処理を実行\n",
    "    return add_func # 戻り値として、main_funcの機能にadd_funcの機能を追加した関数を返す。\n",
    "\n",
    "@decolater_func\n",
    "# デコレートする関数\n",
    "def main_func(x):\n",
    "    print(\"メイン処理の実行\",x)\n",
    "\n",
    "main_func(10)"
   ]
  },
  {
   "cell_type": "markdown",
   "metadata": {},
   "source": [
    "## 関数オブジェクト\n",
    "Python では、関数は整数やリストといったデータと同じく、変数へ代入したり、他の関数に引数として渡したり、関数の戻り値となったりが可能です。\n"
   ]
  },
  {
   "source": [
    "### 関数を変数に代入\n",
    "\n",
    "関数名を変数に代入すると、その変数に()をつけて関数として呼び出せるようになります。"
   ],
   "cell_type": "markdown",
   "metadata": {}
  },
  {
   "cell_type": "code",
   "execution_count": 9,
   "metadata": {},
   "outputs": [
    {
     "output_type": "stream",
     "name": "stdout",
     "text": [
      "4\n4\n"
     ]
    }
   ],
   "source": [
    "def f(x):\n",
    "    return x ** 2\n",
    "\n",
    "a = f   # a = f(1) とかではない。カッコをつけない\n",
    "print(f(2))\n",
    "print(a(2))"
   ]
  },
  {
   "source": [
    "### 関数を引数とする関数\n",
    "\n",
    "関数に別の関数を引数として渡すことができます。"
   ],
   "cell_type": "markdown",
   "metadata": {}
  },
  {
   "cell_type": "code",
   "execution_count": 13,
   "metadata": {},
   "outputs": [
    {
     "output_type": "stream",
     "name": "stdout",
     "text": [
      "9\n"
     ]
    }
   ],
   "source": [
    "def g(h, x):\n",
    "    return h(x)\n",
    "\n",
    "print(g(f, 3))"
   ]
  },
  {
   "cell_type": "markdown",
   "metadata": {},
   "source": [
    "### 関数を戻り値とする関数\n",
    "\n",
    "関数の定義の中で、更に関数を定義することができます。その定義した関数名を戻り値とすることができます。"
   ]
  },
  {
   "cell_type": "code",
   "execution_count": 13,
   "metadata": {},
   "outputs": [
    {
     "output_type": "stream",
     "name": "stdout",
     "text": [
      "108.0\n110.00000000000001\n"
     ]
    }
   ],
   "source": [
    "def make_calc_tax(tax):\n",
    "    # make_calc_tax が呼び出される度に\n",
    "    # そのときの引数 tax を使って、毎回 calc_tax を新たに作り直す。 \n",
    "    def calc_tax(price):\n",
    "        return price * (1.0 + tax)   \n",
    "    \n",
    "    return calc_tax\n",
    "\n",
    "tax8 = make_calc_tax(0.08)\n",
    "tax10 = make_calc_tax(0.1)\n",
    "\n",
    "price = 100\n",
    "print(tax8(price))\n",
    "print(tax10(price))"
   ]
  },
  {
   "source": [
    "## lambda(ラムダ)式\n",
    "\n",
    "- lambda と言うキーワードを使用して、無名関数を定義することができます。関数を定義するまでもない、小規模な処理を記述したい際に使用します。\n",
    "- 構文は「lambda 引数: 処理」です。\n",
    "- lambda 式の戻り値を変数に代入すると、その変数に()をつけて関数として呼び出せるようになります。\n"
   ],
   "cell_type": "markdown",
   "metadata": {}
  },
  {
   "cell_type": "code",
   "execution_count": 21,
   "metadata": {},
   "outputs": [
    {
     "output_type": "stream",
     "name": "stdout",
     "text": [
      "Hello, Tom\n"
     ]
    }
   ],
   "source": [
    "hello = lambda name : 'Hello, ' + name  # 引数 name を受け取り 'Hello, ' + name を戻り値とします。 \n",
    "result = hello('Tom')\n",
    "\n",
    "print(result)"
   ]
  },
  {
   "source": [
    "### sortメソッドとlambda式\n",
    "\n",
    "- sorted関数やリスト型のsortメソッドはkey, reverse の2つのキーワード引数を持ちます。\n",
    "  - list.sort(key=func, reverse=True),  sorted(object, key=func, reverse=True)\n",
    "  - reverse= は昇順、降順のどちらに並べ替えるかを示します(True:降順、False:昇順(デフォルト))。\n",
    "  - key= は、複雑な構造のリストから、並べ替えのキー値を選ぶ関数を示します。\n",
    "\n",
    "- key= は簡単な関数であることが多いので、lambda 式が使われることが多いです。\n"
   ],
   "cell_type": "markdown",
   "metadata": {}
  },
  {
   "cell_type": "code",
   "execution_count": 25,
   "metadata": {},
   "outputs": [
    {
     "output_type": "stream",
     "name": "stdout",
     "text": [
      "[['Andy', 3], ['Ben', 1], ['Tom', 2]]\n[['Ben', 1], ['Tom', 2], ['Andy', 3]]\n"
     ]
    }
   ],
   "source": [
    "name_no = [['Ben', 1], ['Andy', 3], ['Tom', 2]]\n",
    "# key= で指定された関数に、リストの要素を一個ずつ引数として渡し、\n",
    "# その戻り値を並べ替えのキー値とする\n",
    "name_no.sort(key=lambda a: a[0])   # 各要素の 0 番目は'名前'\n",
    "print(name_no)\n",
    "name_no.sort(key=lambda a: a[1])   # 各要素の 1 番目は'番号'\n",
    "print(name_no)\n"
   ]
  }
 ],
 "metadata": {
  "kernelspec": {
   "display_name": "Python 3",
   "language": "python",
   "name": "python3"
  },
  "language_info": {
   "codemirror_mode": {
    "name": "ipython",
    "version": 3
   },
   "file_extension": ".py",
   "mimetype": "text/x-python",
   "name": "python",
   "nbconvert_exporter": "python",
   "pygments_lexer": "ipython3",
   "version": "3.8.5-final"
  },
  "latex_envs": {
   "LaTeX_envs_menu_present": true,
   "bibliofile": "biblio.bib",
   "cite_by": "apalike",
   "current_citInitial": 1,
   "eqLabelWithNumbers": true,
   "eqNumInitial": 1,
   "labels_anchors": false,
   "latex_user_defs": false,
   "report_style_numbering": false,
   "user_envs_cfg": false
  },
  "toc": {
   "colors": {
    "hover_highlight": "#DAA520",
    "running_highlight": "#FF0000",
    "selected_highlight": "#FFD700"
   },
   "moveMenuLeft": true,
   "nav_menu": {
    "height": "141px",
    "width": "251px"
   },
   "navigate_menu": true,
   "number_sections": true,
   "sideBar": true,
   "threshold": 4,
   "toc_cell": false,
   "toc_section_display": "block",
   "toc_window_display": false
  }
 },
 "nbformat": 4,
 "nbformat_minor": 4
}
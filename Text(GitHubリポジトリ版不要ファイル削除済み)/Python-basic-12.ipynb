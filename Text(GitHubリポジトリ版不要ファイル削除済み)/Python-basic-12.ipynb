{
 "cells": [
  {
   "cell_type": "markdown",
   "id": "requested-policy",
   "metadata": {},
   "source": [
    "# 日付と時間\n",
    "\n",
    "## datetime モジュール\n",
    "\n",
    "日付、時間を扱うには、datetime モジュールを使う。\n",
    "\n",
    "datetime に含まれる、よく使うクラスは以下\n",
    "\n",
    "- datetime\n",
    "- timedelta\n",
    "- date"
   ]
  },
  {
   "cell_type": "markdown",
   "id": "patent-tutorial",
   "metadata": {},
   "source": [
    "## datetime クラス\n",
    "\n",
    "日付、時間を扱う基本的なクラス。"
   ]
  },
  {
   "cell_type": "code",
   "execution_count": 1,
   "id": "banned-banner",
   "metadata": {},
   "outputs": [
    {
     "name": "stdout",
     "output_type": "stream",
     "text": [
      "2021-03-29 18:44:00.161107\n"
     ]
    }
   ],
   "source": [
    "from datetime import datetime\n",
    "\n",
    "print(datetime.now())  # 現在を返すスタティックメソッド"
   ]
  },
  {
   "cell_type": "code",
   "execution_count": 2,
   "id": "proof-painting",
   "metadata": {},
   "outputs": [
    {
     "name": "stdout",
     "output_type": "stream",
     "text": [
      "2021-01-01 00:00:00\n",
      "2021-01-02 22:21:23\n"
     ]
    }
   ],
   "source": [
    "# datetime クラスのインスタンス生成\n",
    "dt1 = datetime(2021, 1, 1)\n",
    "print(dt1)\n",
    "\n",
    "dt2 = datetime(2021, 1, 2, 22, 21, 23)\n",
    "print(dt2)"
   ]
  },
  {
   "cell_type": "code",
   "execution_count": 3,
   "id": "mechanical-summary",
   "metadata": {},
   "outputs": [
    {
     "name": "stdout",
     "output_type": "stream",
     "text": [
      "4\n"
     ]
    }
   ],
   "source": [
    "# 曜日を0から6 で返す (0:月〜6:日)\n",
    "print(datetime(2021, 2, 12).weekday())"
   ]
  },
  {
   "cell_type": "markdown",
   "id": "structural-buying",
   "metadata": {},
   "source": [
    "## 時間と文字列の間の変換\n",
    "\n",
    "- 時間を文字列に：datetime.strftime()\n",
    "- 文字列を時間に：datetime.strptime()"
   ]
  },
  {
   "cell_type": "code",
   "execution_count": 4,
   "id": "latin-stock",
   "metadata": {},
   "outputs": [
    {
     "name": "stdout",
     "output_type": "stream",
     "text": [
      "2021-Feb-09-Tue\n"
     ]
    }
   ],
   "source": [
    "# strftime(変換書式)\n",
    "\n",
    "dt1 = datetime(2021, 2, 9)\n",
    "print(dt1.strftime('%Y-%b-%d-%a'))"
   ]
  },
  {
   "cell_type": "code",
   "execution_count": 5,
   "id": "received-prime",
   "metadata": {},
   "outputs": [
    {
     "name": "stdout",
     "output_type": "stream",
     "text": [
      "2020-03-01 00:00:00\n"
     ]
    }
   ],
   "source": [
    "# strptime(文字列, 変換書式)\n",
    "\n",
    "dt2 = datetime.strptime('2020-3-1', '%Y-%m-%d')\n",
    "print(dt2)"
   ]
  },
  {
   "cell_type": "markdown",
   "id": "material-cartridge",
   "metadata": {},
   "source": [
    "### 変換書式で使える記号(抜粋)\n",
    "\n",
    "|書式|意味|\n",
    "|-|-|\n",
    "|%Y|西暦(4桁)|\n",
    "|%y|西暦(2桁)|\n",
    "|%m|月(00-12)|\n",
    "|%b|月(省略形)|\n",
    "|%B|月(省略なし)|\n",
    "|%d|日|\n",
    "|%H|時間(24時間)|\n",
    "|%I|時間(12時間)|\n",
    "|%M|分|\n",
    "|%S|秒|\n",
    "|%w|曜日(0:日曜〜6:土曜)|\n",
    "|%a|曜日(省略形)|\n",
    "|%A|曜日(省略なし)|\n",
    "|%%|%自身|"
   ]
  },
  {
   "cell_type": "markdown",
   "id": "wrong-pearl",
   "metadata": {},
   "source": [
    "## 時間差\n",
    "\n",
    "時間から時間を引くと datetime.timedelta クラスのインスタンスが得られる。また時間に datetime.timedelta のインスタンスを足し引きすることもできる。"
   ]
  },
  {
   "cell_type": "code",
   "execution_count": 6,
   "id": "fiscal-george",
   "metadata": {},
   "outputs": [
    {
     "name": "stdout",
     "output_type": "stream",
     "text": [
      "21915 days, 1:10:00\n",
      "<class 'datetime.timedelta'>\n"
     ]
    }
   ],
   "source": [
    "# 差\n",
    "dt1 = datetime(2020, 1, 1, 1, 10, 0)\n",
    "dt2 = datetime(1960, 1, 1)\n",
    "delta = dt1 - dt2\n",
    "print(delta)\n",
    "print(type(delta))"
   ]
  },
  {
   "cell_type": "code",
   "execution_count": 7,
   "id": "listed-coverage",
   "metadata": {},
   "outputs": [
    {
     "name": "stdout",
     "output_type": "stream",
     "text": [
      "21915\n",
      "4200\n",
      "0\n"
     ]
    }
   ],
   "source": [
    "# timedelta は days, seconds, microseconds の属性を持ちます。\n",
    "print(delta.days)\n",
    "print(delta.seconds)\n",
    "print(delta.microseconds)"
   ]
  },
  {
   "cell_type": "code",
   "execution_count": 8,
   "id": "former-flash",
   "metadata": {},
   "outputs": [
    {
     "name": "stdout",
     "output_type": "stream",
     "text": [
      "2021-03-29 18:44:00.239138\n",
      "2021-03-30 01:20:00.239138\n"
     ]
    }
   ],
   "source": [
    "# 今から6時間36分後は？\n",
    "\n",
    "from datetime import timedelta\n",
    "\n",
    "dt1 = datetime.now()\n",
    "\n",
    "# timedelta(単位=値, ...)\n",
    "delta = timedelta(hours=6, minutes=36)\n",
    "\n",
    "print(dt1)\n",
    "print(dt1 + delta)"
   ]
  },
  {
   "cell_type": "code",
   "execution_count": 9,
   "id": "average-daisy",
   "metadata": {},
   "outputs": [
    {
     "name": "stdout",
     "output_type": "stream",
     "text": [
      "411 days, 18:44:00.248828\n"
     ]
    }
   ],
   "source": [
    "dt1 = datetime.now()\n",
    "\n",
    "birthday = datetime(2020, 2, 12)\n",
    "\n",
    "print(dt1 - birthday)"
   ]
  },
  {
   "cell_type": "markdown",
   "id": "demanding-pound",
   "metadata": {},
   "source": [
    "## 日付\n",
    "\n",
    "data クラスは日付だけを扱う。時間の値が無い以外はほぼdatetimeクラスと同様に扱うことができる。"
   ]
  },
  {
   "cell_type": "code",
   "execution_count": 10,
   "id": "novel-terminal",
   "metadata": {},
   "outputs": [
    {
     "name": "stdout",
     "output_type": "stream",
     "text": [
      "2021-01-02\n",
      "11323 days, 0:00:00\n",
      "11323\n",
      "0\n"
     ]
    }
   ],
   "source": [
    "from datetime import date\n",
    "\n",
    "dt1 = date(2021, 1, 2)\n",
    "print(dt1)\n",
    "\n",
    "dt2 = date(1990, 1, 2)\n",
    "delta = dt1 - dt2\n",
    "print(delta)\n",
    "print(delta.days)\n",
    "print(delta.seconds)  # date クラスは'時間'が無いので、delta.seconds = 0"
   ]
  }
 ],
 "metadata": {
  "kernelspec": {
   "display_name": "Python 3",
   "language": "python",
   "name": "python3"
  },
  "language_info": {
   "codemirror_mode": {
    "name": "ipython",
    "version": 3
   },
   "file_extension": ".py",
   "mimetype": "text/x-python",
   "name": "python",
   "nbconvert_exporter": "python",
   "pygments_lexer": "ipython3",
   "version": "3.8.5"
  }
 },
 "nbformat": 4,
 "nbformat_minor": 5
}

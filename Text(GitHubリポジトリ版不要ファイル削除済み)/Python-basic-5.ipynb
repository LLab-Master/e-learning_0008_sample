{
 "cells": [
  {
   "cell_type": "markdown",
   "metadata": {},
   "source": [
    "# 複数データの扱い"
   ]
  },
  {
   "cell_type": "markdown",
   "metadata": {},
   "source": [
    "## リスト"
   ]
  },
  {
   "cell_type": "markdown",
   "metadata": {},
   "source": [
    "### リストとは \n",
    "リストを使用すると、複数の値をまとめて管理することができます。  \n",
    "リストを使用するには、[]で括った中に、カンマ(,)区切りで次のように宣言します。\n",
    "\n",
    "~~~\n",
    "変数名 = [要素1,要素2・・・]\n",
    "~~~"
   ]
  },
  {
   "cell_type": "code",
   "execution_count": 1,
   "metadata": {},
   "outputs": [
    {
     "name": "stdout",
     "output_type": "stream",
     "text": [
      "[0, 1, 2, 3, 4]\n",
      "['a', 'b', 'c', 'd', 'e']\n",
      "['a', 1, 'b', 2, 'c']\n"
     ]
    }
   ],
   "source": [
    "list1 = [0,1,2,3,4]\n",
    "list2 = ['a','b','c','d','e']\n",
    "list3 = ['a',1,'b',2,'c'] #　異なるオブジェクトでもリストを作成できます。\n",
    "print(list1)\n",
    "print(list2)\n",
    "print(list3)"
   ]
  },
  {
   "cell_type": "code",
   "execution_count": 2,
   "metadata": {},
   "outputs": [
    {
     "name": "stdout",
     "output_type": "stream",
     "text": [
      "[-1, -2, 0, 1, 2, 3, 4]\n",
      "-1\n"
     ]
    }
   ],
   "source": [
    "list1 = [-1, -2, 0,1,2,3,4]\n",
    "print(list1)\n",
    "print(list1[0])"
   ]
  },
  {
   "cell_type": "code",
   "execution_count": 3,
   "metadata": {},
   "outputs": [
    {
     "data": {
      "text/plain": [
       "-1"
      ]
     },
     "execution_count": 3,
     "metadata": {},
     "output_type": "execute_result"
    }
   ],
   "source": [
    "list1[0]"
   ]
  },
  {
   "cell_type": "markdown",
   "metadata": {},
   "source": [
    "### リストの追加  \n",
    "作成したリストに新しい要素を追加する場合は、リスト型の「append」メソッドを使用します。  \n",
    "新しい要素は、リストの最後に追加されます。\n",
    "\n",
    "~~~\n",
    "リスト.append(追加する要素)\n",
    "~~~"
   ]
  },
  {
   "cell_type": "code",
   "execution_count": 4,
   "metadata": {},
   "outputs": [
    {
     "name": "stdout",
     "output_type": "stream",
     "text": [
      "['a', 'b', 'c', 'd', 'Python']\n"
     ]
    }
   ],
   "source": [
    "list1 = ['a','b','c','d']\n",
    "list1.append('Python')\n",
    "print(list1)"
   ]
  },
  {
   "cell_type": "markdown",
   "metadata": {},
   "source": [
    "### リストの挿入  \n",
    "作成したリストに新しい要素を挿入する場合は、リスト型の「insert」メソッドを使用します。  \n",
    "1番目の引数に、要素を挿入するインデックス番号を指定し、2番目の引数に挿入する要素を指定します。\n",
    "\n",
    "~~~\n",
    "リスト.insert(挿入するインデックス番号,要素)\n",
    "~~~"
   ]
  },
  {
   "cell_type": "code",
   "execution_count": 5,
   "metadata": {},
   "outputs": [
    {
     "name": "stdout",
     "output_type": "stream",
     "text": [
      "[0, 1, 2, 3, 4]\n",
      "[0, 1, 100, 2, 3, 4]\n"
     ]
    }
   ],
   "source": [
    "list1 = [1,2,3,4]\n",
    "list1.insert(0,0) #リストの0番目に「0」を挿入します。\n",
    "print(list1)\n",
    "list1.insert(2,100) #リストの2番目に「100」を挿入します。\n",
    "print(list1)"
   ]
  },
  {
   "cell_type": "markdown",
   "metadata": {},
   "source": [
    "### リストの削除  \n",
    "リストから要素を削除する際には、いくつかの方法があります。  \n",
    "1. 「del」文を使用する。  \n",
    "「del」文を使用すると、指定したオブジェクトを削除することができます。  \n",
    "リストの要素を削除するには、リスト[削除したい要素のインデックス番号]をdel文の引数に指定します。\n",
    "~~~\n",
    "del リスト[削除したい要素のインデックス番号]\n",
    "~~~\n",
    "2. リスト型の「pop」メソッドを使用する。  \n",
    "リスト型の「pop」メソッドの引数に、削除したい要素のインデックス番号を指定すると要素を削除できます。\n",
    "~~~\n",
    "リスト.pop(削除したい要素のインデックス番号)\n",
    "~~~\n",
    "3. リスト型の「remove」メソッドを使用する。  \n",
    "リスト型の「remove」メソッドの引数に、削除したい値を指定し、同じ値の要素があれば削除します。  \n",
    "リスト内に削除したい値と一致する要素が複数存在する場合は、最初に一致した要素のみ削除します。\n",
    "~~~\n",
    "リスト.remove(削除したい値)\n",
    "~~~"
   ]
  },
  {
   "cell_type": "code",
   "execution_count": 6,
   "metadata": {},
   "outputs": [
    {
     "name": "stdout",
     "output_type": "stream",
     "text": [
      "[0, 1, 2, 3]\n"
     ]
    }
   ],
   "source": [
    "list1 = [0,1,2,'a',3]\n",
    "del list1[3] # del文を使用して要素を削除。\n",
    "print(list1)"
   ]
  },
  {
   "cell_type": "code",
   "execution_count": 7,
   "metadata": {},
   "outputs": [
    {
     "name": "stdout",
     "output_type": "stream",
     "text": [
      "[-1, 'a', 'b', 'c']\n"
     ]
    }
   ],
   "source": [
    "list2 = [-1,'a','b','c','d']\n",
    "list2.pop(4) # リスト型のpopメソッドを使用して要素を削除。\n",
    "print(list2)"
   ]
  },
  {
   "cell_type": "code",
   "execution_count": 8,
   "metadata": {},
   "outputs": [
    {
     "name": "stdout",
     "output_type": "stream",
     "text": [
      "['あ', 'い', 'う', 'Python', 'え']\n"
     ]
    }
   ],
   "source": [
    "list3 = ['あ','い','Python','う','Python','え']\n",
    "list3.remove('Python') # リスト型のremoveメソッドを使用して要素を削除。一致する値が複数存在するので、最初に一致した要素のみ削除される。\n",
    "print(list3)"
   ]
  },
  {
   "cell_type": "code",
   "execution_count": 9,
   "metadata": {},
   "outputs": [
    {
     "name": "stdout",
     "output_type": "stream",
     "text": [
      "[1, 2, 4, 4, 5]\n"
     ]
    }
   ],
   "source": [
    "a = [1,10,2,10,4,10,4,5,10]\n",
    "\n",
    "while 10 in a:\n",
    "    a.remove(10) #最初に見つかった要素のみ削除\n",
    "print(a)\n"
   ]
  },
  {
   "cell_type": "markdown",
   "metadata": {},
   "source": [
    "### リストの更新"
   ]
  },
  {
   "cell_type": "code",
   "execution_count": 10,
   "metadata": {},
   "outputs": [
    {
     "name": "stdout",
     "output_type": "stream",
     "text": [
      "[1, 10, 2, 10, 4, 10, 4, 5, 40]\n"
     ]
    }
   ],
   "source": [
    "a = [1,10,2,10,4,10,4,5,10]\n",
    "a[8] = 40\n",
    "print(a)"
   ]
  },
  {
   "cell_type": "markdown",
   "metadata": {},
   "source": [
    "### in演算子"
   ]
  },
  {
   "cell_type": "code",
   "execution_count": 11,
   "metadata": {},
   "outputs": [
    {
     "name": "stdout",
     "output_type": "stream",
     "text": [
      "あり\n"
     ]
    }
   ],
   "source": [
    "#値の存在\n",
    "a = [1,10,2,10,4,10,4,5,10]\n",
    "if 10 in a :\n",
    "    print('あり')"
   ]
  },
  {
   "cell_type": "code",
   "execution_count": 12,
   "metadata": {},
   "outputs": [
    {
     "name": "stdout",
     "output_type": "stream",
     "text": [
      "[1, 2, 4, 4, 5]\n"
     ]
    }
   ],
   "source": [
    "#全ての10を削除\n",
    "a = [1,10,2,10,4,10,4,5,10]\n",
    "while 10 in a:\n",
    "    a.remove(10)\n",
    "print(a)"
   ]
  },
  {
   "cell_type": "code",
   "execution_count": 13,
   "metadata": {},
   "outputs": [
    {
     "name": "stdout",
     "output_type": "stream",
     "text": [
      "['あ', 'い', 'う', 'え']\n"
     ]
    }
   ],
   "source": [
    "list3 = ['あ','い','Python','う','Python','え']\n",
    "while 'Python' in list3:\n",
    "    list3.remove('Python')\n",
    "\n",
    "print(list3)"
   ]
  },
  {
   "cell_type": "markdown",
   "metadata": {},
   "source": [
    "### リストの繰り返し"
   ]
  },
  {
   "cell_type": "markdown",
   "metadata": {},
   "source": [
    "リストに対して繰り返し処理を行う一般的な方法としては、for文を使用します。  \n",
    "下記の例では、aのリストの中身をiに格納し、順番に表示させています。"
   ]
  },
  {
   "cell_type": "code",
   "execution_count": 14,
   "metadata": {},
   "outputs": [
    {
     "name": "stdout",
     "output_type": "stream",
     "text": [
      "0 10\n",
      "1 20\n",
      "2 30\n",
      "3 40\n",
      "4 50\n"
     ]
    }
   ],
   "source": [
    "a = [10,20,30,40,50]\n",
    "x = 0\n",
    "for i in a:\n",
    "    print(x,i)\n",
    "    x = x + 1"
   ]
  },
  {
   "cell_type": "markdown",
   "metadata": {},
   "source": [
    "### リストの中身を逆順で表示する  \n",
    "リストの中身を逆順で表示するには、reversedを使用します。  \n",
    "※リスト自体は変更されません。"
   ]
  },
  {
   "cell_type": "code",
   "execution_count": 15,
   "metadata": {},
   "outputs": [
    {
     "name": "stdout",
     "output_type": "stream",
     "text": [
      "50\n",
      "40\n",
      "30\n",
      "20\n",
      "10\n"
     ]
    }
   ],
   "source": [
    "a = [10,20,30,40,50]\n",
    "for i in reversed(a):\n",
    "    print(i)\n"
   ]
  },
  {
   "cell_type": "code",
   "execution_count": 16,
   "metadata": {},
   "outputs": [
    {
     "name": "stdout",
     "output_type": "stream",
     "text": [
      "[10, 20, 30, 40, 50]\n"
     ]
    }
   ],
   "source": [
    "a = [10,20,30,40,50]\n",
    "print(a)"
   ]
  },
  {
   "cell_type": "markdown",
   "metadata": {},
   "source": [
    "### リストの要素とインデックスを同時に取得する  \n",
    "通常のfor文では、リストの要素のみ取得できますが、インデックスと要素を同時に取得したい場合はenumerate関数を使用します。\n",
    "\n",
    "~~~\n",
    "for インデックス, 要素 in enumerate(リスト):\n",
    "~~~"
   ]
  },
  {
   "cell_type": "code",
   "execution_count": 17,
   "metadata": {},
   "outputs": [
    {
     "name": "stdout",
     "output_type": "stream",
     "text": [
      "0 a\n",
      "1 b\n",
      "2 c\n",
      "3 d\n",
      "4 e\n"
     ]
    }
   ],
   "source": [
    "a = ['a','b','c','d','e']\n",
    "for i,value in enumerate(a):\n",
    "    print(i,value)"
   ]
  },
  {
   "cell_type": "markdown",
   "metadata": {},
   "source": [
    "enumerate関数のインデックスは通常0から始まりますが、第二引数に任意の開始インデックス番号を指定することもできます。"
   ]
  },
  {
   "cell_type": "code",
   "execution_count": 18,
   "metadata": {},
   "outputs": [
    {
     "name": "stdout",
     "output_type": "stream",
     "text": [
      "1 a\n",
      "2 b\n",
      "3 c\n",
      "4 d\n",
      "5 e\n"
     ]
    }
   ],
   "source": [
    "a = ['a','b','c','d','e']\n",
    "for i,value in enumerate(a,1):\n",
    "    print(i,value)"
   ]
  },
  {
   "cell_type": "markdown",
   "metadata": {},
   "source": [
    "### 複数のリストから順番に要素を取り出す\n",
    "要素数の同じ複数のリストから、順に値を取り出すには zip 関数を使用します。\n",
    "\n",
    "~~~\n",
    "for 要素1, 要素2, ... in zip(リスト1, リスト2. ...):\n",
    "~~~"
   ]
  },
  {
   "cell_type": "code",
   "execution_count": 19,
   "metadata": {},
   "outputs": [
    {
     "name": "stdout",
     "output_type": "stream",
     "text": [
      "Tom is 20 years old.\n",
      "Ben is 25 years old.\n",
      "Alice is 22 years old.\n"
     ]
    }
   ],
   "source": [
    "name_list = ['Tom','Ben','Alice']\n",
    "age_list = [20, 25, 22]\n",
    "for name, age in zip(name_list, age_list):\n",
    "    print(name, 'is', age, 'years old.')"
   ]
  },
  {
   "cell_type": "markdown",
   "metadata": {},
   "source": [
    "### リスト内包表記"
   ]
  },
  {
   "cell_type": "markdown",
   "metadata": {},
   "source": [
    "内包表記とは、リストなどのオブジェクトのループ処理を簡単に記述できる仕組みのことを言います。  \n",
    "リストを作成する際などに使用します。\n",
    "\n",
    "~~~\n",
    "[式 for 変数名 in オブジェクト]\n",
    "~~~"
   ]
  },
  {
   "cell_type": "code",
   "execution_count": 20,
   "metadata": {},
   "outputs": [
    {
     "name": "stdout",
     "output_type": "stream",
     "text": [
      "[0, 1, 2, 3, 4, 5, 6, 7, 8, 9, 10]\n"
     ]
    }
   ],
   "source": [
    "list1 = [num for num in range(11)] #range関数を使用して、指定の連続した整数のリストを生成します。\n",
    "print(list1)"
   ]
  },
  {
   "cell_type": "code",
   "execution_count": 21,
   "metadata": {},
   "outputs": [
    {
     "name": "stdout",
     "output_type": "stream",
     "text": [
      "[0, 1, 2, 3, 4, 5, 6, 7, 8, 9, 10]\n"
     ]
    }
   ],
   "source": [
    "list1 = []\n",
    "for num in range(11):\n",
    "    list1.append(num)\n",
    "print(list1)"
   ]
  },
  {
   "cell_type": "markdown",
   "metadata": {},
   "source": [
    "- if文を使用した内包表記  \n",
    "if文を使用すると、条件に一致する要素を持ったリストを生成することができます。\n",
    "\n",
    "~~~\n",
    "[式 for 変数名 in オブジェクト if 条件式]\n",
    "~~~"
   ]
  },
  {
   "cell_type": "code",
   "execution_count": 22,
   "metadata": {},
   "outputs": [
    {
     "name": "stdout",
     "output_type": "stream",
     "text": [
      "[1, 3, 5, 7, 9]\n"
     ]
    }
   ],
   "source": [
    "list1 = [num for num in range(11) if num % 2 == 1]\n",
    "print(list1)"
   ]
  },
  {
   "cell_type": "code",
   "execution_count": 23,
   "metadata": {},
   "outputs": [
    {
     "name": "stdout",
     "output_type": "stream",
     "text": [
      "[1, 3, 5, 7, 9]\n"
     ]
    }
   ],
   "source": [
    "list1 = []\n",
    "for num in range(11):\n",
    "    if num % 2 == 1:\n",
    "        list1.append(num)\n",
    "print(list1)"
   ]
  },
  {
   "cell_type": "code",
   "execution_count": 24,
   "metadata": {},
   "outputs": [
    {
     "name": "stdout",
     "output_type": "stream",
     "text": [
      "[1, 9, 25, 49, 81]\n"
     ]
    }
   ],
   "source": [
    "list1 = [x**2 for x in range(1,11) if x %2 == 1]\n",
    "print(list1)"
   ]
  },
  {
   "cell_type": "code",
   "execution_count": 25,
   "metadata": {},
   "outputs": [
    {
     "name": "stdout",
     "output_type": "stream",
     "text": [
      "[1, 9, 25, 49, 81]\n"
     ]
    }
   ],
   "source": [
    "list1 = []  #空のリスト\n",
    "for i in range(1,11):\n",
    "    if i % 2 == 1:\n",
    "        list1.append(i*i) # i**2\n",
    "\n",
    "print(list1)"
   ]
  },
  {
   "cell_type": "markdown",
   "metadata": {},
   "source": [
    "- 2重ループの内包表現"
   ]
  },
  {
   "cell_type": "code",
   "execution_count": 26,
   "metadata": {},
   "outputs": [
    {
     "name": "stdout",
     "output_type": "stream",
     "text": [
      "[0, 0, 0, 0, 0, 0, 0, 0, 0, 0, 1, 1, 1, 1, 1, 1, 1, 1, 1, 1, 2, 2, 2, 2, 2, 2, 2, 2, 2, 2, 3, 3, 3, 3, 3, 3, 3, 3, 3, 3, 4, 4, 4, 4, 4, 4, 4, 4, 4, 4, 5, 5, 5, 5, 5, 5, 5, 5, 5, 5, 6, 6, 6, 6, 6, 6, 6, 6, 6, 6, 7, 7, 7, 7, 7, 7, 7, 7, 7, 7, 8, 8, 8, 8, 8, 8, 8, 8, 8, 8, 9, 9, 9, 9, 9, 9, 9, 9, 9, 9]\n"
     ]
    }
   ],
   "source": [
    "list1 = [num for num in range(10) for i in range(10)]\n",
    "print(list1)"
   ]
  },
  {
   "cell_type": "code",
   "execution_count": 27,
   "metadata": {},
   "outputs": [
    {
     "name": "stdout",
     "output_type": "stream",
     "text": [
      "[0, 0, 0, 0, 0, 0, 0, 0, 0, 0, 1, 1, 1, 1, 1, 1, 1, 1, 1, 1, 2, 2, 2, 2, 2, 2, 2, 2, 2, 2, 3, 3, 3, 3, 3, 3, 3, 3, 3, 3, 4, 4, 4, 4, 4, 4, 4, 4, 4, 4, 5, 5, 5, 5, 5, 5, 5, 5, 5, 5, 6, 6, 6, 6, 6, 6, 6, 6, 6, 6, 7, 7, 7, 7, 7, 7, 7, 7, 7, 7, 8, 8, 8, 8, 8, 8, 8, 8, 8, 8, 9, 9, 9, 9, 9, 9, 9, 9, 9, 9]\n"
     ]
    }
   ],
   "source": [
    "list1 = []\n",
    "for num in range(10):\n",
    "    for i in range(10):\n",
    "        list1.append(num)\n",
    "print(list1)"
   ]
  },
  {
   "cell_type": "markdown",
   "metadata": {},
   "source": [
    "### リストのソート"
   ]
  },
  {
   "cell_type": "markdown",
   "metadata": {},
   "source": [
    "リストの要素を昇順でソートさせたい場合は、「sort」メソッドを使用します。  \n",
    "リストの要素が文字列の場合は、文字コードの昇順、リストの要素が数値であれば数値を小さい順からソートします。\n",
    "\n",
    "~~~\n",
    "ソートするリスト.sort()\n",
    "~~~"
   ]
  },
  {
   "cell_type": "code",
   "execution_count": 28,
   "metadata": {},
   "outputs": [
    {
     "name": "stdout",
     "output_type": "stream",
     "text": [
      "['a', 'b', 'c', 'd', 'e']\n",
      "[5, 6, 7, 8, 9]\n"
     ]
    }
   ],
   "source": [
    "list1 = ['d','b','c','e','a']\n",
    "list2 = [6,7,9,8,5]\n",
    "list1.sort()\n",
    "list2.sort()\n",
    "print(list1)\n",
    "print(list2)"
   ]
  },
  {
   "cell_type": "markdown",
   "metadata": {},
   "source": [
    "逆順にソートしたい場合は、「reverse」メソッドを使用します。  \n",
    "\n",
    "~~~\n",
    "ソートするリスト.reverse()\n",
    "~~~\n",
    "\n",
    "- <span style=\"color:red\">注意</span> \n",
    "「reverse」メソッドは、現在のリストの要素をあくまで逆順にソートするだけで、降順にソートする訳ではありません。  \n",
    "降順にソートしたい場合は、一旦「sort」メソッドを使用して昇順にソートしてから、「reverse」メソッドを使用してください。"
   ]
  },
  {
   "cell_type": "code",
   "execution_count": 29,
   "metadata": {},
   "outputs": [
    {
     "name": "stdout",
     "output_type": "stream",
     "text": [
      "['h', 'j', 'i', 'f', 'g']\n"
     ]
    }
   ],
   "source": [
    "list1 = ['g','f','i','j','h']\n",
    "list1.reverse() \n",
    "print(list1) #単純にリストの逆順でソートされます。"
   ]
  },
  {
   "cell_type": "code",
   "execution_count": 30,
   "metadata": {},
   "outputs": [
    {
     "name": "stdout",
     "output_type": "stream",
     "text": [
      "['j', 'i', 'h', 'g', 'f']\n"
     ]
    }
   ],
   "source": [
    "# 降順\n",
    "list1 = ['g','f','i','j','h']\n",
    "list1.sort(); # 一旦昇順にソートします。　['f', 'g', 'h', 'i', 'j']\n",
    "list1.reverse() # 逆順でソートするので、結果的に降順になります。 \n",
    "print(list1) "
   ]
  },
  {
   "cell_type": "code",
   "execution_count": 31,
   "metadata": {},
   "outputs": [
    {
     "name": "stdout",
     "output_type": "stream",
     "text": [
      "['j', 'i', 'h', 'g', 'f']\n"
     ]
    }
   ],
   "source": [
    "list1 = ['g','f','i','j','h']\n",
    "list1.sort(reverse=True)  #sort に reverse=True オプションを付ける\n",
    "print(list1)"
   ]
  },
  {
   "cell_type": "markdown",
   "metadata": {},
   "source": [
    "別の方法として、sorted関数を使う方法もあります。"
   ]
  },
  {
   "cell_type": "code",
   "execution_count": 32,
   "metadata": {},
   "outputs": [
    {
     "name": "stdout",
     "output_type": "stream",
     "text": [
      "['a', 'b', 'c', 'd', 'e']\n"
     ]
    }
   ],
   "source": [
    "list1 = ['d','b','c','e','a']\n",
    "list2 = sorted(list1)\n",
    "print(list2)"
   ]
  },
  {
   "cell_type": "markdown",
   "metadata": {},
   "source": [
    "sortメソッドとsorted関数の違い\n",
    "\n",
    "| | sortメソッド | sorted関数 |\n",
    "|---|---|---|\n",
    "|呼出し方| list1.sort() | sorted(list1) |\n",
    "|動作| list1 の中身を書き換える | 結果を戻り値として返す(list1は変わらない)| "
   ]
  },
  {
   "cell_type": "markdown",
   "metadata": {},
   "source": [
    "### リストのインデックス"
   ]
  },
  {
   "cell_type": "markdown",
   "metadata": {},
   "source": [
    "リストの要素を取得するには、単純に「リスト[インデックス番号]」で指定する方法がありますが、範囲を指定して要素を取得することもできます。\n",
    "\n",
    "~~~\n",
    "リスト[開始インデックス:終了インデックス:ステップ数]\n",
    "~~~\n",
    "\n",
    "開始インデックス、終了インデックス、ステップ数はそれぞれ省略することが可能です。\n",
    "それぞれを省略した場合、下記の通りとなります。\n",
    "- 開始インデックス→0\n",
    "- 終了インデックス→リストの要素数\n",
    "- ステップ数→1"
   ]
  },
  {
   "cell_type": "code",
   "execution_count": 33,
   "metadata": {},
   "outputs": [
    {
     "name": "stdout",
     "output_type": "stream",
     "text": [
      "[2]\n",
      "[2, 3, 4, 5, 6, 7]\n",
      "[1, 2]\n",
      "7\n",
      "[7]\n",
      "[2, 4]\n"
     ]
    }
   ],
   "source": [
    "a = [1,2,3,4,5,6,7]\n",
    "print(a[1:2]) # n~n-1の要素を取得\n",
    "print(a[1:]) # 終了インデックスを指定しないと、nから最後の要素まで取得\n",
    "print(a[:2]) # 開始インデックスを指定しないと、0番目から指定位置-1まで取得\n",
    "print(a[-1]) # マイナスの値を指定すると、逆順で指定して取得\n",
    "print(a[-1:]) # マイナスの値を指定すると、逆順で指定して取得\n",
    "print(a[1:5:2]) # nからn-1までの要素を、2つおきに取得"
   ]
  },
  {
   "cell_type": "markdown",
   "metadata": {},
   "source": [
    "## タプル"
   ]
  },
  {
   "cell_type": "markdown",
   "metadata": {},
   "source": [
    "### タプルとは\n",
    "\n",
    "リストと同じように、複数の要素を扱うことができるのがタプルです。  \n",
    "タプルはリストと異なり、要素の変更ができません。  \n",
    "そのため、変更したくない定数などを定義する際に使用されます。  \n",
    "タプルの宣言方法は下記の通りです。  \n",
    "\n",
    "~~~\n",
    "変数名 = (要素1,要素2・・・)\n",
    "~~~\n",
    "\n",
    "- <span style=\"color:red\">注意</span>  \n",
    "タプルの要素が一つだけの場合でも、末尾にカンマが必要です。  \n",
    "カンマが無いと、単純に括弧の中に要素が定義されているものとして扱われてしまいます。"
   ]
  },
  {
   "cell_type": "code",
   "execution_count": 34,
   "metadata": {},
   "outputs": [
    {
     "name": "stdout",
     "output_type": "stream",
     "text": [
      "<class 'tuple'>\n"
     ]
    }
   ],
   "source": [
    "c = (4, 5, 6)\n",
    " # ()　計算式、関数の引数、タプル\n",
    "\n",
    "print(type(c))\n"
   ]
  },
  {
   "cell_type": "code",
   "execution_count": 35,
   "metadata": {},
   "outputs": [
    {
     "data": {
      "text/plain": [
       "list"
      ]
     },
     "execution_count": 35,
     "metadata": {},
     "output_type": "execute_result"
    }
   ],
   "source": [
    "a = [1,2,3]\n",
    "type(a)"
   ]
  },
  {
   "cell_type": "code",
   "execution_count": 36,
   "metadata": {},
   "outputs": [
    {
     "name": "stdout",
     "output_type": "stream",
     "text": [
      "('Python', 'Java', 'Ruby', 1, 3)\n"
     ]
    }
   ],
   "source": [
    "tuple_1 = ('Python','Java','Ruby',1,3)\n",
    "print(tuple_1)"
   ]
  },
  {
   "cell_type": "code",
   "execution_count": 37,
   "metadata": {},
   "outputs": [
    {
     "name": "stdout",
     "output_type": "stream",
     "text": [
      "('PHP',)\n"
     ]
    },
    {
     "data": {
      "text/plain": [
       "tuple"
      ]
     },
     "execution_count": 37,
     "metadata": {},
     "output_type": "execute_result"
    }
   ],
   "source": [
    "tuple_2 = ('PHP',) # 要素が一つだけの場合、末尾にカンマが必要。\n",
    "print(tuple_2)\n",
    "type(tuple_2)"
   ]
  },
  {
   "cell_type": "code",
   "execution_count": 38,
   "metadata": {},
   "outputs": [
    {
     "name": "stdout",
     "output_type": "stream",
     "text": [
      "<class 'int'>\n",
      "<class 'tuple'>\n"
     ]
    }
   ],
   "source": [
    "c = (4)\n",
    "print(type(c))\n",
    "c = (4,)\n",
    "print(type(c))"
   ]
  },
  {
   "cell_type": "code",
   "execution_count": 39,
   "metadata": {},
   "outputs": [
    {
     "name": "stdout",
     "output_type": "stream",
     "text": [
      "0 a\n",
      "1 b\n",
      "2 c\n"
     ]
    }
   ],
   "source": [
    "a = ['a', 'b', 'c']\n",
    "\n",
    "for i, v in enumerate(a):\n",
    "    print(i, v)"
   ]
  },
  {
   "cell_type": "markdown",
   "metadata": {},
   "source": [
    "### タプルの要素の取得  \n",
    "タプルの要素を取得するには、リストと同様にインデックスを指定して取得することができます。  \n",
    "\n",
    "~~~\n",
    "タプル[インデックス]\n",
    "~~~\n"
   ]
  },
  {
   "cell_type": "code",
   "execution_count": 40,
   "metadata": {},
   "outputs": [
    {
     "name": "stdout",
     "output_type": "stream",
     "text": [
      "('Python', 'Java', 'Ruby')\n"
     ]
    }
   ],
   "source": [
    "tuple_1 = ('Python','Java','Ruby')\n",
    "print(tuple_1[:])"
   ]
  },
  {
   "cell_type": "markdown",
   "metadata": {},
   "source": [
    "## 辞書"
   ]
  },
  {
   "cell_type": "markdown",
   "metadata": {},
   "source": [
    "### 辞書とは\n",
    "Pythonには、キーと値を紐付ける辞書型(dict型)というオブジェクトが存在します。  \n",
    "一つの要素はキーと値の組み合わせで構成されています。  \n",
    "キーと値はコロンで区切り、データはカンマで区切ります。\n",
    "\n",
    "~~~\n",
    "{キー:値,・・・}\n",
    "~~~\n"
   ]
  },
  {
   "cell_type": "code",
   "execution_count": 41,
   "metadata": {},
   "outputs": [
    {
     "name": "stdout",
     "output_type": "stream",
     "text": [
      "{1: 'Python', 2: 'Java', 3: 'Ruby'}\n",
      "Ruby\n"
     ]
    }
   ],
   "source": [
    "dic = {1:'Python', 2:'Java', 3:'Ruby'}\n",
    "print(dic)\n",
    "print(dic[3])"
   ]
  },
  {
   "cell_type": "markdown",
   "metadata": {},
   "source": [
    "### 辞書の要素の取得  \n",
    "辞書型には、リストと違い<u> ** 要素の順番はありません。 ** </u>  \n",
    "そのため、<u> ** インデックスを指定して要素を取得することはできません。** </u>  \n",
    "要素を取得するには、要素に割り当てたキーを指定します。\n",
    "\n",
    "~~~\n",
    "辞書[キー]\n",
    "~~~"
   ]
  },
  {
   "cell_type": "code",
   "execution_count": 42,
   "metadata": {},
   "outputs": [
    {
     "name": "stdout",
     "output_type": "stream",
     "text": [
      "hello\n",
      "{1: 'Python', 2: 'Java', 3: 'Ruby', 'A': 'hello'}\n"
     ]
    }
   ],
   "source": [
    "dic = {1:'Python',2:'Java',3:'Ruby', 'A':'hello'}\n",
    "print(dic['A'])\n",
    "print(dic)"
   ]
  },
  {
   "cell_type": "code",
   "execution_count": 43,
   "metadata": {},
   "outputs": [
    {
     "ename": "KeyError",
     "evalue": "5",
     "output_type": "error",
     "traceback": [
      "\u001b[1;31m---------------------------------------------------------------------------\u001b[0m",
      "\u001b[1;31mKeyError\u001b[0m                                  Traceback (most recent call last)",
      "Cell \u001b[1;32mIn [43], line 2\u001b[0m\n\u001b[0;32m      1\u001b[0m dic \u001b[38;5;241m=\u001b[39m {\u001b[38;5;241m1\u001b[39m:\u001b[38;5;124m'\u001b[39m\u001b[38;5;124mPython\u001b[39m\u001b[38;5;124m'\u001b[39m,\u001b[38;5;241m2\u001b[39m:\u001b[38;5;124m'\u001b[39m\u001b[38;5;124mJava\u001b[39m\u001b[38;5;124m'\u001b[39m,\u001b[38;5;241m3\u001b[39m:\u001b[38;5;124m'\u001b[39m\u001b[38;5;124mRuby\u001b[39m\u001b[38;5;124m'\u001b[39m}\n\u001b[1;32m----> 2\u001b[0m \u001b[38;5;28mprint\u001b[39m(\u001b[43mdic\u001b[49m\u001b[43m[\u001b[49m\u001b[38;5;241;43m5\u001b[39;49m\u001b[43m]\u001b[49m) \u001b[38;5;66;03m#存在しないキーを指定するとエラーになります。\u001b[39;00m\n",
      "\u001b[1;31mKeyError\u001b[0m: 5"
     ]
    }
   ],
   "source": [
    "dic = {1:'Python',2:'Java',3:'Ruby'}\n",
    "print(dic[5]) #存在しないキーを指定するとエラーになります。"
   ]
  },
  {
   "cell_type": "code",
   "execution_count": 44,
   "metadata": {},
   "outputs": [
    {
     "name": "stdout",
     "output_type": "stream",
     "text": [
      "None\n",
      "そんなキーはありません\n"
     ]
    }
   ],
   "source": [
    "dic = {1:'Python',2:'Java',3:'Ruby'}\n",
    "print(dic.get(5)) # 辞書型のgetメソッドで存在しないキーを指定すると、エラーではなくNoneが返されます。\n",
    "if not dic.get(5):\n",
    "    print('そんなキーはありません')"
   ]
  },
  {
   "cell_type": "markdown",
   "metadata": {},
   "source": [
    "### 辞書への要素の追加  \n",
    "辞書へ新しい要素を追加する場合は、追加する辞書オブジェクトに存在していないキーを指定し、追加する値を指定します。  \n",
    "\n",
    "~~~\n",
    "辞書[新しいキー] = 追加する値\n",
    "~~~\n",
    "\n",
    "**※既に存在するキーを指定した場合は、存在する要素の値が上書きされます。**\n",
    "\n",
    "または、setdefaultメソッドを使用して要素を追加することもできます。\n",
    "\n",
    "~~~\n",
    "辞書.setdefault(キー,値)\n",
    "~~~"
   ]
  },
  {
   "cell_type": "code",
   "execution_count": 45,
   "metadata": {},
   "outputs": [
    {
     "name": "stdout",
     "output_type": "stream",
     "text": [
      "{1: 'Python', 2: 'Java', 3: 'javascript', 4: 'PHP', 5: 'Swift'}\n"
     ]
    }
   ],
   "source": [
    "dic = {1:'Python',2:'Java',3:'Ruby'}\n",
    "dic[4] = 'PHP'\n",
    "dic[3] = 'javascript' # 既に存在するキーを指定すると、上書きされます。\n",
    "dic.setdefault(5,'Swift') # setdefaultメソッドを使用して要素を追加。\n",
    "print(dic)\n"
   ]
  },
  {
   "cell_type": "markdown",
   "metadata": {},
   "source": [
    "### 辞書の削除  \n",
    "辞書から要素を削除する際には、いくつかの方法があります。  \n",
    "1. 「del」文を使用する。  \n",
    "「del」文を使用すると、指定したオブジェクトを削除することができます。  \n",
    "辞書の要素を削除するには、辞書[削除したい要素のキー]をdel文の引数に指定します。\n",
    "~~~\n",
    "del 辞書[削除したい要素のキー]\n",
    "~~~\n",
    "\n",
    "2. 辞書型の「pop」メソッドを使用する。  \n",
    "辞書型の「pop」メソッドの引数に、削除したい要素のキーを指定すると要素を削除できます。\n",
    "~~~\n",
    "リスト.pop(削除したい要素のキー)\n",
    "~~~\n",
    "\n",
    "3. 辞書型の「clear」メソッドを使用する。  \n",
    "辞書型の「clear」メソッドを使用すると、<u> ** 辞書の全ての要素が削除されます。** </u>     \n",
    "~~~\n",
    "辞書.clear()\n",
    "~~~"
   ]
  },
  {
   "cell_type": "code",
   "execution_count": 46,
   "metadata": {},
   "outputs": [
    {
     "name": "stdout",
     "output_type": "stream",
     "text": [
      "{1: 'Python', 2: 'Java', 3: 'Ruby', 4: 'PHP'}\n"
     ]
    }
   ],
   "source": [
    "dic = {1: 'Python', 2: 'Java', 3: 'Ruby', 4: 'PHP', 5: 'Swift'}\n",
    "del dic[5] # del文を使用して要素を削除。\n",
    "print(dic)"
   ]
  },
  {
   "cell_type": "code",
   "execution_count": 47,
   "metadata": {},
   "outputs": [
    {
     "name": "stdout",
     "output_type": "stream",
     "text": [
      "{1: 'Python', 2: 'Java', 3: 'Ruby'}\n"
     ]
    }
   ],
   "source": [
    "dic.pop(4) # 辞書型のpopメソッドを使用して要素を削除。\n",
    "print(dic)"
   ]
  },
  {
   "cell_type": "code",
   "execution_count": 48,
   "metadata": {},
   "outputs": [
    {
     "name": "stdout",
     "output_type": "stream",
     "text": [
      "{}\n"
     ]
    }
   ],
   "source": [
    "dic.clear() # 辞書の全ての要素を削除\n",
    "print(dic)"
   ]
  },
  {
   "cell_type": "markdown",
   "metadata": {},
   "source": [
    "### 辞書の繰り返し"
   ]
  },
  {
   "cell_type": "markdown",
   "metadata": {},
   "source": [
    "辞書をfor文を使用して繰り返し処理を行うと、各要素のキーが取得できます。"
   ]
  },
  {
   "cell_type": "code",
   "execution_count": 49,
   "metadata": {},
   "outputs": [
    {
     "name": "stdout",
     "output_type": "stream",
     "text": [
      "1 Python\n",
      "2 Java\n",
      "3 Ruby\n",
      "4 PHP\n",
      "5 Swift\n"
     ]
    }
   ],
   "source": [
    "dic = {1: 'Python', 2: 'Java', 3: 'Ruby', 4: 'PHP', 5: 'Swift'}\n",
    "#for key in dic.keys():\n",
    "for key in dic:   # keys() は不要\n",
    "    #print(key)\n",
    "    print(key, dic[key])"
   ]
  },
  {
   "cell_type": "markdown",
   "metadata": {},
   "source": [
    "要素の値を取得したい場合、またはキーと値の両方を取得したい場合は、valuesメソッドとitemsメソッドを使用します。"
   ]
  },
  {
   "cell_type": "code",
   "execution_count": 50,
   "metadata": {},
   "outputs": [
    {
     "name": "stdout",
     "output_type": "stream",
     "text": [
      "Python\n",
      "Java\n",
      "Ruby\n",
      "PHP\n",
      "Swift\n"
     ]
    }
   ],
   "source": [
    "dic = {1: 'Python', 2: 'Java', 3: 'Ruby', 4: 'PHP', 5: 'Swift'}\n",
    "for value in dic.values(): # 各要素の値を取得\n",
    "    print(value)"
   ]
  },
  {
   "cell_type": "code",
   "execution_count": 51,
   "metadata": {},
   "outputs": [
    {
     "name": "stdout",
     "output_type": "stream",
     "text": [
      "(1, 'Python')\n",
      "(2, 'Java')\n",
      "(3, 'Ruby')\n",
      "(4, 'PHP')\n",
      "(5, 'Swift')\n"
     ]
    }
   ],
   "source": [
    "for i in dic.items(): # 各要素のキーと値を取得\n",
    "    print(i)"
   ]
  },
  {
   "cell_type": "code",
   "execution_count": 52,
   "metadata": {},
   "outputs": [
    {
     "name": "stdout",
     "output_type": "stream",
     "text": [
      "1 Python\n",
      "2 Java\n",
      "3 Ruby\n",
      "4 PHP\n",
      "5 Swift\n"
     ]
    }
   ],
   "source": [
    "for k, v in dic.items(): #キーをｋ、値をvへ格納\n",
    "    print(k,v)"
   ]
  },
  {
   "cell_type": "markdown",
   "metadata": {},
   "source": [
    "## セット"
   ]
  },
  {
   "cell_type": "markdown",
   "metadata": {},
   "source": [
    "### セットとは\n",
    "セットもリストと同様に、複数の要素を扱うことができます。  \n",
    "セットはリストと異なり、要素の重複や順番の保持はされません。  \n",
    "リストやタプルからセットを生成することができます。  \n",
    "\n",
    "~~~\n",
    "変数名 = set([要素1,要素2・・・])\n",
    "変数名 = set((要素1,要素2・・・))\n",
    "~~~"
   ]
  },
  {
   "cell_type": "code",
   "execution_count": 53,
   "metadata": {},
   "outputs": [
    {
     "name": "stdout",
     "output_type": "stream",
     "text": [
      "{'e', 'a', 'c', 'd', 'b'}\n"
     ]
    }
   ],
   "source": [
    "set_1 = set(['a','b','c','d','e']) # リストからセットを作成\n",
    "print(set_1)"
   ]
  },
  {
   "cell_type": "code",
   "execution_count": 54,
   "metadata": {},
   "outputs": [
    {
     "name": "stdout",
     "output_type": "stream",
     "text": [
      "{1, 2, 3, 4, 5}\n"
     ]
    }
   ],
   "source": [
    "set_2 = set((1,2,3,2,4,5)) # タプルからリストを作成。重複した値は無視されます。\n",
    "print(set_2)"
   ]
  },
  {
   "cell_type": "code",
   "execution_count": 55,
   "metadata": {},
   "outputs": [
    {
     "name": "stdout",
     "output_type": "stream",
     "text": [
      "{2, 3, 5, 6}\n"
     ]
    }
   ],
   "source": [
    "set_3 = { 2,3,5,6 } #python3.6から {} でセットが作成できる\n",
    "print(set_3)"
   ]
  },
  {
   "cell_type": "markdown",
   "metadata": {},
   "source": [
    "### セットへの要素の追加  \n",
    "セットへ要素を追加するには、addメソッドを使用します。  \n",
    "\n",
    "~~~\n",
    "セット.add(追加する要素)\n",
    "~~~\n"
   ]
  },
  {
   "cell_type": "code",
   "execution_count": 56,
   "metadata": {},
   "outputs": [
    {
     "name": "stdout",
     "output_type": "stream",
     "text": [
      "{'e', 'a', 'c', 'd', 'f', 'b'}\n"
     ]
    }
   ],
   "source": [
    "set_1 = set(['a','b','c','d','e'])\n",
    "set_1.add('f')\n",
    "print(set_1)"
   ]
  },
  {
   "cell_type": "markdown",
   "metadata": {},
   "source": [
    "### セットの要素の削除  \n",
    "セットから要素を削除するには、いくつかの方法があります。  \n",
    "\n",
    "1. セット型の「remove」メソッドを使用する。  \n",
    "セット型の「remove」メソッドの引数に、削除したい要素を指定すると要素を削除できます。\n",
    "~~~\n",
    "セット.remove(削除したい要素)\n",
    "~~~\n",
    "\n",
    "2. セット型の「clear」メソッドを使用する。  \n",
    "セット型の「clear」メソッドを使用すると、<u> **セットの全ての要素が削除されます。** </u>     \n",
    "~~~\n",
    "セット.clear()\n",
    "~~~"
   ]
  },
  {
   "cell_type": "code",
   "execution_count": 57,
   "metadata": {},
   "outputs": [
    {
     "name": "stdout",
     "output_type": "stream",
     "text": [
      "{'a', 'c', 'd', 'b'}\n",
      "{'a', 'c', 'd', 'b'}\n",
      "{'a'}\n",
      "{'a'}\n"
     ]
    }
   ],
   "source": [
    "set_1 = set(['a','b','c','d','e'])\n",
    "set_1.remove('e') # removeメソッドを使用して要素を削除\n",
    "print(set_1)\n",
    "#set_1.clear() # セットの全ての要素を削除\n",
    "print(set_1)\n",
    "#set_1.append('a')\n",
    "set_2 = {'a','x','y','z'}\n",
    "print(set_1 & set_2)\n",
    "print(set_1.intersection(set_2))"
   ]
  },
  {
   "cell_type": "code",
   "execution_count": 58,
   "metadata": {},
   "outputs": [
    {
     "name": "stdout",
     "output_type": "stream",
     "text": [
      "4\n",
      "[0, 1, 3, 4]\n"
     ]
    }
   ],
   "source": [
    "list1 = [0, 1, 3, 4, 0 ,3]\n",
    "# list1 の重複しない要素の数は？\n",
    "set1 = set(list1)\n",
    "print(len(set1))\n",
    "\n",
    "list2 = list(set1)\n",
    "print(list2)"
   ]
  }
 ],
 "metadata": {
  "kernelspec": {
   "display_name": "Python 3 (ipykernel)",
   "language": "python",
   "name": "python3"
  },
  "language_info": {
   "codemirror_mode": {
    "name": "ipython",
    "version": 3
   },
   "file_extension": ".py",
   "mimetype": "text/x-python",
   "name": "python",
   "nbconvert_exporter": "python",
   "pygments_lexer": "ipython3",
   "version": "3.8.16"
  },
  "latex_envs": {
   "LaTeX_envs_menu_present": true,
   "bibliofile": "biblio.bib",
   "cite_by": "apalike",
   "current_citInitial": 1,
   "eqLabelWithNumbers": true,
   "eqNumInitial": 1,
   "labels_anchors": false,
   "latex_user_defs": false,
   "report_style_numbering": false,
   "user_envs_cfg": false
  },
  "toc": {
   "colors": {
    "hover_highlight": "#DAA520",
    "running_highlight": "#FF0000",
    "selected_highlight": "#FFD700"
   },
   "moveMenuLeft": true,
   "nav_menu": {
    "height": "122px",
    "width": "251px"
   },
   "navigate_menu": true,
   "number_sections": true,
   "sideBar": true,
   "threshold": 4,
   "toc_cell": false,
   "toc_section_display": "block",
   "toc_window_display": false
  }
 },
 "nbformat": 4,
 "nbformat_minor": 4
}

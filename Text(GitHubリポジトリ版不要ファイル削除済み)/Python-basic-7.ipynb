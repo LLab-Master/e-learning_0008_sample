{
 "cells": [
  {
   "cell_type": "markdown",
   "metadata": {},
   "source": [
    "# モジュール"
   ]
  },
  {
   "cell_type": "markdown",
   "metadata": {},
   "source": [
    "## モジュールの作成"
   ]
  },
  {
   "cell_type": "markdown",
   "metadata": {},
   "source": [
    "他のプログラムから利用できるようにしたPythonのファイルを<u>**モジュール**</u>と言います。  "
   ]
  },
  {
   "cell_type": "code",
   "execution_count": 1,
   "metadata": {},
   "outputs": [],
   "source": [
    "# モジュールの作成\n",
    "def printMsg(msg):\n",
    "    print(msg)"
   ]
  },
  {
   "cell_type": "markdown",
   "metadata": {},
   "source": [
    "上記のファイルを「pb7_1_01.py」という名前で保存します。"
   ]
  },
  {
   "cell_type": "markdown",
   "metadata": {},
   "source": [
    "## モジュールの利用"
   ]
  },
  {
   "cell_type": "markdown",
   "metadata": {},
   "source": [
    "モジュールはimportすることで他のプログラムで読み込まれ、利用することができます。  \n",
    "読み込む際はimportを使用し、実際に利用する際には、「モジュール名.関数名()」でモジュールに定義された関数を呼び出すことができます。\n",
    "~~~\n",
    "import モジュール名\n",
    "・\n",
    "・\n",
    "・\n",
    "モジュール名.関数名()\n",
    "~~~"
   ]
  },
  {
   "cell_type": "code",
   "execution_count": 2,
   "metadata": {},
   "outputs": [
    {
     "name": "stdout",
     "output_type": "stream",
     "text": [
      "Hello, python!\n"
     ]
    }
   ],
   "source": [
    "import pb7_1_01\n",
    "\n",
    "pb7_1_01.printMsg('Hello, python!')"
   ]
  },
  {
   "cell_type": "code",
   "execution_count": 3,
   "metadata": {},
   "outputs": [
    {
     "name": "stdout",
     "output_type": "stream",
     "text": [
      "Hello,Pyhton!\n"
     ]
    }
   ],
   "source": [
    "# モジュールの読み込み\n",
    "import pb7_1_01 as print\n",
    "\n",
    "# モジュールの利用\n",
    "print.printMsg('Hello,Pyhton!')"
   ]
  },
  {
   "cell_type": "markdown",
   "metadata": {},
   "source": [
    "## fromの使用  \n",
    "プログラム上で何度も同じモジュールを呼び出す場合には、fromを使用すると、「モジュール名.関数名()」という記載を省略し、処理を簡潔に記述することができます。\n",
    "\n",
    "~~~\n",
    "from モジュール名 import クラス名、関数名、変数名などを指定\n",
    "~~~"
   ]
  },
  {
   "cell_type": "code",
   "execution_count": 4,
   "metadata": {},
   "outputs": [
    {
     "name": "stdout",
     "output_type": "stream",
     "text": [
      "Hello,Pyhton!\n"
     ]
    }
   ],
   "source": [
    "# モジュールの読み込み(formを指定)\n",
    "from pb7_1_01 import printMsg # printMsgという関数を使用する。\n",
    "\n",
    "# モジュールの利用\n",
    "printMsg('Hello,Pyhton!')"
   ]
  },
  {
   "cell_type": "markdown",
   "metadata": {},
   "source": [
    "## パッケージ  \n",
    "複数のモジュールをまとめたものを<u>**パッケージ**</u>と呼びます。  \n",
    "パッケージは、「\\__init__.py」というファイルとモジュールファイルで構成されたフォルダです。  \n",
    "\n",
    "~~~\n",
    "pac1/  \n",
    "├ __init__.py  \n",
    "├ print2.py  \n",
    "・  \n",
    "・  \n",
    "・ \n",
    "~~~\n",
    "\n",
    "使用する際は、importを使用して読み込みます。  \n",
    "\n",
    "~~~\n",
    "import パッケージ名.モジュール名\n",
    "・\n",
    "・\n",
    "・\n",
    "パッケージ名.モジュール名.関数名()\n",
    "~~~\n",
    "\n",
    "fromを使用することもできます。  \n",
    "\n",
    "~~~\n",
    "from パッケージ名.モジュール名 import クラス名、関数名、変数名などを指定\n",
    "~~~"
   ]
  },
  {
   "cell_type": "code",
   "execution_count": 5,
   "metadata": {},
   "outputs": [
    {
     "name": "stdout",
     "output_type": "stream",
     "text": [
      "こんにちは,Pyhton!\n"
     ]
    }
   ],
   "source": [
    "#　パッケージの読み込み\n",
    "import pac1.print2\n",
    "\n",
    "# モジュールの利用\n",
    "pac1.print2.printMsg('こんにちは,Pyhton!')"
   ]
  },
  {
   "cell_type": "code",
   "execution_count": 6,
   "metadata": {},
   "outputs": [
    {
     "name": "stdout",
     "output_type": "stream",
     "text": [
      "こんにちは,Pyhton!\n"
     ]
    }
   ],
   "source": [
    "# パッケージの読み込み(formを指定)\n",
    "from pac1.print2 import printMsg # printMsgという関数を使用する。\n",
    "\n",
    "# モジュールの利用\n",
    "printMsg('こんにちは,Pyhton!')"
   ]
  },
  {
   "cell_type": "markdown",
   "metadata": {},
   "source": [
    "## モジュールやパッケージはどこにある？\n",
    "\n",
    "モジュールやパッケージが読み込まれる先は次の変数に入っています。\n",
    "\n",
    "```python\n",
    "import sys\n",
    "sys.path\n",
    "```\n",
    "\n",
    "sys.path 変数はユーザが書き換えることもできます。"
   ]
  },
  {
   "cell_type": "markdown",
   "metadata": {},
   "source": [
    "## 外部パッケージのインストール\n",
    "\n",
    "Anaconda、WinPythonなどのディストリビューションであれば主要なパッケージはインストール済みのことも多いですが、一般的には標準に含まれていないモジュールやパッケージは、別途インストールする必要があります。\n",
    "\n",
    "インストールには、Anaconda、Miniconda 環境であれば conda コマンド、それ以外では pip コマンドを使います。\n",
    "\n",
    "% conda install パッケージ名\n",
    "\n",
    "または\n",
    "\n",
    "% pip install パッケージ名\n",
    "\n",
    "conda と pip ではパッケージの管理方法に互換性がありません。\n",
    "Anaconda または　Miniconda を使っている場合、conda でインストールできるパッケージはできるだけ conda で、conda でインストールできないパッケージのみ pip でインストールするのが安全です。"
   ]
  }
 ],
 "metadata": {
  "kernelspec": {
   "display_name": "Python 3 (ipykernel)",
   "language": "python",
   "name": "python3"
  },
  "language_info": {
   "codemirror_mode": {
    "name": "ipython",
    "version": 3
   },
   "file_extension": ".py",
   "mimetype": "text/x-python",
   "name": "python",
   "nbconvert_exporter": "python",
   "pygments_lexer": "ipython3",
   "version": "3.8.16"
  },
  "latex_envs": {
   "LaTeX_envs_menu_present": true,
   "bibliofile": "biblio.bib",
   "cite_by": "apalike",
   "current_citInitial": 1,
   "eqLabelWithNumbers": true,
   "eqNumInitial": 1,
   "labels_anchors": false,
   "latex_user_defs": false,
   "report_style_numbering": false,
   "user_envs_cfg": false
  },
  "toc": {
   "colors": {
    "hover_highlight": "#DAA520",
    "running_highlight": "#FF0000",
    "selected_highlight": "#FFD700"
   },
   "moveMenuLeft": true,
   "nav_menu": {
    "height": "84px",
    "width": "252px"
   },
   "navigate_menu": true,
   "number_sections": true,
   "sideBar": true,
   "threshold": 4,
   "toc_cell": false,
   "toc_section_display": "block",
   "toc_window_display": false
  }
 },
 "nbformat": 4,
 "nbformat_minor": 4
}
